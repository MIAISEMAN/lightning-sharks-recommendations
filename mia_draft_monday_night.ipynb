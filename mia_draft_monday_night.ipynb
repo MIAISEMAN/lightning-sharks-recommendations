{
 "cells": [
  {
   "cell_type": "markdown",
   "metadata": {},
   "source": [
    "# Initial Setup"
   ]
  },
  {
   "cell_type": "code",
   "execution_count": 2,
   "metadata": {},
   "outputs": [
    {
     "name": "stderr",
     "output_type": "stream",
     "text": [
      "/Users/tjjj/anaconda3/lib/python3.7/importlib/_bootstrap.py:219: RuntimeWarning: numpy.ufunc size changed, may indicate binary incompatibility. Expected 192 from C header, got 216 from PyObject\n",
      "  return f(*args, **kwds)\n",
      "/Users/tjjj/anaconda3/lib/python3.7/importlib/_bootstrap.py:219: RuntimeWarning: numpy.ufunc size changed, may indicate binary incompatibility. Expected 192 from C header, got 216 from PyObject\n",
      "  return f(*args, **kwds)\n",
      "Using TensorFlow backend.\n",
      "/Users/tjjj/anaconda3/lib/python3.7/importlib/_bootstrap.py:219: RuntimeWarning: numpy.ufunc size changed, may indicate binary incompatibility. Expected 216, got 192\n",
      "  return f(*args, **kwds)\n",
      "/Users/tjjj/anaconda3/lib/python3.7/importlib/_bootstrap.py:219: RuntimeWarning: numpy.ufunc size changed, may indicate binary incompatibility. Expected 192 from C header, got 216 from PyObject\n",
      "  return f(*args, **kwds)\n"
     ]
    }
   ],
   "source": [
    "import pyspark \n",
    "import pandas as pd\n",
    "import numpy as np\n",
    "from pyspark.ml.recommendation import ALSModel, ALS\n",
    "from keras.models import Sequential\n",
    "from keras.layers import Dense \n",
    "from keras.optimizers import Adam \n",
    "from sklearn.preprocessing import OneHotEncoder, StandardScaler"
   ]
  },
  {
   "cell_type": "code",
   "execution_count": 3,
   "metadata": {},
   "outputs": [],
   "source": [
    "spark  = pyspark.sql.SparkSession.builder.getOrCreate()\n",
    "sc = spark.sparkContext"
   ]
  },
  {
   "cell_type": "markdown",
   "metadata": {},
   "source": [
    "## All Dataframes"
   ]
  },
  {
   "cell_type": "markdown",
   "metadata": {},
   "source": [
    "### Ratings"
   ]
  },
  {
   "cell_type": "code",
   "execution_count": 4,
   "metadata": {},
   "outputs": [
    {
     "data": {
      "text/html": [
       "<div>\n",
       "<style scoped>\n",
       "    .dataframe tbody tr th:only-of-type {\n",
       "        vertical-align: middle;\n",
       "    }\n",
       "\n",
       "    .dataframe tbody tr th {\n",
       "        vertical-align: top;\n",
       "    }\n",
       "\n",
       "    .dataframe thead th {\n",
       "        text-align: right;\n",
       "    }\n",
       "</style>\n",
       "<table border=\"1\" class=\"dataframe\">\n",
       "  <thead>\n",
       "    <tr style=\"text-align: right;\">\n",
       "      <th></th>\n",
       "      <th>movie_id</th>\n",
       "      <th>rating</th>\n",
       "      <th>timestamp</th>\n",
       "      <th>user_id</th>\n",
       "    </tr>\n",
       "  </thead>\n",
       "  <tbody>\n",
       "    <tr>\n",
       "      <th>0</th>\n",
       "      <td>858</td>\n",
       "      <td>4</td>\n",
       "      <td>956678732.0</td>\n",
       "      <td>6040</td>\n",
       "    </tr>\n",
       "    <tr>\n",
       "      <th>1</th>\n",
       "      <td>2384</td>\n",
       "      <td>4</td>\n",
       "      <td>956678754.0</td>\n",
       "      <td>6040</td>\n",
       "    </tr>\n",
       "    <tr>\n",
       "      <th>2</th>\n",
       "      <td>593</td>\n",
       "      <td>5</td>\n",
       "      <td>956678754.0</td>\n",
       "      <td>6040</td>\n",
       "    </tr>\n",
       "    <tr>\n",
       "      <th>3</th>\n",
       "      <td>1961</td>\n",
       "      <td>4</td>\n",
       "      <td>956678777.0</td>\n",
       "      <td>6040</td>\n",
       "    </tr>\n",
       "    <tr>\n",
       "      <th>4</th>\n",
       "      <td>1419</td>\n",
       "      <td>3</td>\n",
       "      <td>956678856.0</td>\n",
       "      <td>6040</td>\n",
       "    </tr>\n",
       "  </tbody>\n",
       "</table>\n",
       "</div>"
      ],
      "text/plain": [
       "   movie_id  rating    timestamp  user_id\n",
       "0       858       4  956678732.0     6040\n",
       "1      2384       4  956678754.0     6040\n",
       "2       593       5  956678754.0     6040\n",
       "3      1961       4  956678777.0     6040\n",
       "4      1419       3  956678856.0     6040"
      ]
     },
     "execution_count": 4,
     "metadata": {},
     "output_type": "execute_result"
    }
   ],
   "source": [
    "ratings = spark.read.json('data/ratings.json')\n",
    "ratings.persist()\n",
    "\n",
    "ratings_df = ratings.toPandas()\n",
    "ratings_df.head()"
   ]
  },
  {
   "cell_type": "markdown",
   "metadata": {},
   "source": [
    "### Movies"
   ]
  },
  {
   "cell_type": "code",
   "execution_count": 5,
   "metadata": {},
   "outputs": [
    {
     "data": {
      "text/html": [
       "<div>\n",
       "<style scoped>\n",
       "    .dataframe tbody tr th:only-of-type {\n",
       "        vertical-align: middle;\n",
       "    }\n",
       "\n",
       "    .dataframe tbody tr th {\n",
       "        vertical-align: top;\n",
       "    }\n",
       "\n",
       "    .dataframe thead th {\n",
       "        text-align: right;\n",
       "    }\n",
       "</style>\n",
       "<table border=\"1\" class=\"dataframe\">\n",
       "  <thead>\n",
       "    <tr style=\"text-align: right;\">\n",
       "      <th></th>\n",
       "      <th>0</th>\n",
       "      <th>1</th>\n",
       "      <th>2</th>\n",
       "    </tr>\n",
       "  </thead>\n",
       "  <tbody>\n",
       "    <tr>\n",
       "      <th>0</th>\n",
       "      <td>1</td>\n",
       "      <td>Toy Story (1995)</td>\n",
       "      <td>Animation|Children's|Comedy</td>\n",
       "    </tr>\n",
       "    <tr>\n",
       "      <th>1</th>\n",
       "      <td>2</td>\n",
       "      <td>Jumanji (1995)</td>\n",
       "      <td>Adventure|Children's|Fantasy</td>\n",
       "    </tr>\n",
       "    <tr>\n",
       "      <th>2</th>\n",
       "      <td>3</td>\n",
       "      <td>Grumpier Old Men (1995)</td>\n",
       "      <td>Comedy|Romance</td>\n",
       "    </tr>\n",
       "    <tr>\n",
       "      <th>3</th>\n",
       "      <td>4</td>\n",
       "      <td>Waiting to Exhale (1995)</td>\n",
       "      <td>Comedy|Drama</td>\n",
       "    </tr>\n",
       "    <tr>\n",
       "      <th>4</th>\n",
       "      <td>5</td>\n",
       "      <td>Father of the Bride Part II (1995)</td>\n",
       "      <td>Comedy</td>\n",
       "    </tr>\n",
       "  </tbody>\n",
       "</table>\n",
       "</div>"
      ],
      "text/plain": [
       "   0                                   1                             2\n",
       "0  1                    Toy Story (1995)   Animation|Children's|Comedy\n",
       "1  2                      Jumanji (1995)  Adventure|Children's|Fantasy\n",
       "2  3             Grumpier Old Men (1995)                Comedy|Romance\n",
       "3  4            Waiting to Exhale (1995)                  Comedy|Drama\n",
       "4  5  Father of the Bride Part II (1995)                        Comedy"
      ]
     },
     "execution_count": 5,
     "metadata": {},
     "output_type": "execute_result"
    }
   ],
   "source": [
    "movies = pd.read_csv('data/movies.dat', sep='::', engine='python', header=None)\n",
    "movies.head()"
   ]
  },
  {
   "cell_type": "markdown",
   "metadata": {},
   "source": [
    "### Users"
   ]
  },
  {
   "cell_type": "code",
   "execution_count": 6,
   "metadata": {},
   "outputs": [
    {
     "data": {
      "text/html": [
       "<div>\n",
       "<style scoped>\n",
       "    .dataframe tbody tr th:only-of-type {\n",
       "        vertical-align: middle;\n",
       "    }\n",
       "\n",
       "    .dataframe tbody tr th {\n",
       "        vertical-align: top;\n",
       "    }\n",
       "\n",
       "    .dataframe thead th {\n",
       "        text-align: right;\n",
       "    }\n",
       "</style>\n",
       "<table border=\"1\" class=\"dataframe\">\n",
       "  <thead>\n",
       "    <tr style=\"text-align: right;\">\n",
       "      <th></th>\n",
       "      <th>user_id</th>\n",
       "      <th>gender</th>\n",
       "      <th>min_age</th>\n",
       "      <th>occupation</th>\n",
       "      <th>zipcode</th>\n",
       "    </tr>\n",
       "  </thead>\n",
       "  <tbody>\n",
       "    <tr>\n",
       "      <th>0</th>\n",
       "      <td>1</td>\n",
       "      <td>F</td>\n",
       "      <td>1</td>\n",
       "      <td>10</td>\n",
       "      <td>48067</td>\n",
       "    </tr>\n",
       "    <tr>\n",
       "      <th>1</th>\n",
       "      <td>2</td>\n",
       "      <td>M</td>\n",
       "      <td>56</td>\n",
       "      <td>16</td>\n",
       "      <td>70072</td>\n",
       "    </tr>\n",
       "    <tr>\n",
       "      <th>2</th>\n",
       "      <td>3</td>\n",
       "      <td>M</td>\n",
       "      <td>25</td>\n",
       "      <td>15</td>\n",
       "      <td>55117</td>\n",
       "    </tr>\n",
       "    <tr>\n",
       "      <th>3</th>\n",
       "      <td>4</td>\n",
       "      <td>M</td>\n",
       "      <td>45</td>\n",
       "      <td>7</td>\n",
       "      <td>02460</td>\n",
       "    </tr>\n",
       "    <tr>\n",
       "      <th>4</th>\n",
       "      <td>5</td>\n",
       "      <td>M</td>\n",
       "      <td>25</td>\n",
       "      <td>20</td>\n",
       "      <td>55455</td>\n",
       "    </tr>\n",
       "  </tbody>\n",
       "</table>\n",
       "</div>"
      ],
      "text/plain": [
       "   user_id gender  min_age  occupation zipcode\n",
       "0        1      F        1          10   48067\n",
       "1        2      M       56          16   70072\n",
       "2        3      M       25          15   55117\n",
       "3        4      M       45           7   02460\n",
       "4        5      M       25          20   55455"
      ]
     },
     "execution_count": 6,
     "metadata": {},
     "output_type": "execute_result"
    }
   ],
   "source": [
    "users = pd.read_csv('data/users.dat', sep='::', engine='python', header=None)\n",
    "users = users.rename({0:'user_id', \n",
    "              1:'gender', \n",
    "              2:'min_age', \n",
    "              3:'occupation', \n",
    "              4:'zipcode'}, \n",
    "             axis=1)\n",
    "users.head()"
   ]
  },
  {
   "cell_type": "code",
   "execution_count": 7,
   "metadata": {},
   "outputs": [
    {
     "data": {
      "text/plain": [
       "25    2096\n",
       "35    1193\n",
       "18    1103\n",
       "45     550\n",
       "50     496\n",
       "56     380\n",
       "1      222\n",
       "Name: min_age, dtype: int64"
      ]
     },
     "execution_count": 7,
     "metadata": {},
     "output_type": "execute_result"
    }
   ],
   "source": [
    "# To see user age ranges\n",
    "users.min_age.value_counts()"
   ]
  },
  {
   "cell_type": "markdown",
   "metadata": {},
   "source": [
    "### Requests (to predict)"
   ]
  },
  {
   "cell_type": "code",
   "execution_count": 65,
   "metadata": {},
   "outputs": [
    {
     "name": "stdout",
     "output_type": "stream",
     "text": [
      "+--------+------+------------+-------+\n",
      "|movie_id|rating|   timestamp|user_id|\n",
      "+--------+------+------------+-------+\n",
      "|    2019|   NaN|9.56678777E8|   6040|\n",
      "|     759|   NaN|9.56679248E8|   6040|\n",
      "|    2858|   NaN|9.56679275E8|   6040|\n",
      "|     246|   NaN|9.56679413E8|   6040|\n",
      "|    1617|   NaN|9.56679473E8|   6040|\n",
      "+--------+------+------------+-------+\n",
      "only showing top 5 rows\n",
      "\n"
     ]
    }
   ],
   "source": [
    "requests = spark.read.json('data/requests.json')\n",
    "requests.persist()\n",
    "requests.show(5)\n",
    "requests_df=requests.toPandas()"
   ]
  },
  {
   "cell_type": "markdown",
   "metadata": {},
   "source": [
    "# ALS Model"
   ]
  },
  {
   "cell_type": "code",
   "execution_count": 9,
   "metadata": {},
   "outputs": [],
   "source": [
    "als = ALS(\n",
    "    rank=11,\n",
    "    userCol='user_id',\n",
    "    itemCol='movie_id',\n",
    "    ratingCol='rating'\n",
    ")"
   ]
  },
  {
   "cell_type": "code",
   "execution_count": 10,
   "metadata": {},
   "outputs": [
    {
     "data": {
      "text/html": [
       "<div>\n",
       "<style scoped>\n",
       "    .dataframe tbody tr th:only-of-type {\n",
       "        vertical-align: middle;\n",
       "    }\n",
       "\n",
       "    .dataframe tbody tr th {\n",
       "        vertical-align: top;\n",
       "    }\n",
       "\n",
       "    .dataframe thead th {\n",
       "        text-align: right;\n",
       "    }\n",
       "</style>\n",
       "<table border=\"1\" class=\"dataframe\">\n",
       "  <thead>\n",
       "    <tr style=\"text-align: right;\">\n",
       "      <th></th>\n",
       "      <th>movie_id</th>\n",
       "      <th>rating</th>\n",
       "      <th>timestamp</th>\n",
       "      <th>user_id</th>\n",
       "      <th>prediction</th>\n",
       "    </tr>\n",
       "  </thead>\n",
       "  <tbody>\n",
       "    <tr>\n",
       "      <th>0</th>\n",
       "      <td>148</td>\n",
       "      <td>NaN</td>\n",
       "      <td>977959026.0</td>\n",
       "      <td>53</td>\n",
       "      <td>NaN</td>\n",
       "    </tr>\n",
       "    <tr>\n",
       "      <th>1</th>\n",
       "      <td>148</td>\n",
       "      <td>NaN</td>\n",
       "      <td>976559602.0</td>\n",
       "      <td>4169</td>\n",
       "      <td>3.098435</td>\n",
       "    </tr>\n",
       "    <tr>\n",
       "      <th>2</th>\n",
       "      <td>148</td>\n",
       "      <td>NaN</td>\n",
       "      <td>989024856.0</td>\n",
       "      <td>5333</td>\n",
       "      <td>2.433347</td>\n",
       "    </tr>\n",
       "    <tr>\n",
       "      <th>3</th>\n",
       "      <td>148</td>\n",
       "      <td>NaN</td>\n",
       "      <td>977005381.0</td>\n",
       "      <td>4387</td>\n",
       "      <td>2.162670</td>\n",
       "    </tr>\n",
       "    <tr>\n",
       "      <th>4</th>\n",
       "      <td>148</td>\n",
       "      <td>NaN</td>\n",
       "      <td>966907208.0</td>\n",
       "      <td>3539</td>\n",
       "      <td>2.820822</td>\n",
       "    </tr>\n",
       "  </tbody>\n",
       "</table>\n",
       "</div>"
      ],
      "text/plain": [
       "   movie_id  rating    timestamp  user_id  prediction\n",
       "0       148     NaN  977959026.0       53         NaN\n",
       "1       148     NaN  976559602.0     4169    3.098435\n",
       "2       148     NaN  989024856.0     5333    2.433347\n",
       "3       148     NaN  977005381.0     4387    2.162670\n",
       "4       148     NaN  966907208.0     3539    2.820822"
      ]
     },
     "execution_count": 10,
     "metadata": {},
     "output_type": "execute_result"
    }
   ],
   "source": [
    "als_model = als.fit(ratings)\n",
    "preds = als_model.transform(ratings)            # Known ratings\n",
    "request_preds = als_model.transform(requests)   # Unknown ratings\n",
    "\n",
    "nan_df = request_preds.toPandas()  # Fill prediction column with predicted ratings for users we have ratings from.\n",
    "nan_df.head()                      # Cold start users have a predicted rating of NaN."
   ]
  },
  {
   "cell_type": "markdown",
   "metadata": {},
   "source": [
    "Since our ALS model can predict a rating for users who have rated movies in the past, we ignore these users and focus only on 'Cold Start Users', or users who have no prior movie rating in our database."
   ]
  },
  {
   "cell_type": "code",
   "execution_count": 11,
   "metadata": {},
   "outputs": [
    {
     "data": {
      "text/html": [
       "<div>\n",
       "<style scoped>\n",
       "    .dataframe tbody tr th:only-of-type {\n",
       "        vertical-align: middle;\n",
       "    }\n",
       "\n",
       "    .dataframe tbody tr th {\n",
       "        vertical-align: top;\n",
       "    }\n",
       "\n",
       "    .dataframe thead th {\n",
       "        text-align: right;\n",
       "    }\n",
       "</style>\n",
       "<table border=\"1\" class=\"dataframe\">\n",
       "  <thead>\n",
       "    <tr style=\"text-align: right;\">\n",
       "      <th></th>\n",
       "      <th>movie_id</th>\n",
       "      <th>rating</th>\n",
       "      <th>timestamp</th>\n",
       "      <th>user_id</th>\n",
       "      <th>prediction</th>\n",
       "    </tr>\n",
       "  </thead>\n",
       "  <tbody>\n",
       "    <tr>\n",
       "      <th>0</th>\n",
       "      <td>148</td>\n",
       "      <td>NaN</td>\n",
       "      <td>9.779590e+08</td>\n",
       "      <td>53</td>\n",
       "      <td>NaN</td>\n",
       "    </tr>\n",
       "    <tr>\n",
       "      <th>6</th>\n",
       "      <td>148</td>\n",
       "      <td>NaN</td>\n",
       "      <td>9.768416e+08</td>\n",
       "      <td>216</td>\n",
       "      <td>NaN</td>\n",
       "    </tr>\n",
       "    <tr>\n",
       "      <th>7</th>\n",
       "      <td>148</td>\n",
       "      <td>NaN</td>\n",
       "      <td>9.761912e+08</td>\n",
       "      <td>482</td>\n",
       "      <td>NaN</td>\n",
       "    </tr>\n",
       "    <tr>\n",
       "      <th>9</th>\n",
       "      <td>148</td>\n",
       "      <td>NaN</td>\n",
       "      <td>1.026978e+09</td>\n",
       "      <td>424</td>\n",
       "      <td>NaN</td>\n",
       "    </tr>\n",
       "    <tr>\n",
       "      <th>14</th>\n",
       "      <td>463</td>\n",
       "      <td>NaN</td>\n",
       "      <td>9.782428e+08</td>\n",
       "      <td>26</td>\n",
       "      <td>NaN</td>\n",
       "    </tr>\n",
       "  </tbody>\n",
       "</table>\n",
       "</div>"
      ],
      "text/plain": [
       "    movie_id  rating     timestamp  user_id  prediction\n",
       "0        148     NaN  9.779590e+08       53         NaN\n",
       "6        148     NaN  9.768416e+08      216         NaN\n",
       "7        148     NaN  9.761912e+08      482         NaN\n",
       "9        148     NaN  1.026978e+09      424         NaN\n",
       "14       463     NaN  9.782428e+08       26         NaN"
      ]
     },
     "execution_count": 11,
     "metadata": {},
     "output_type": "execute_result"
    }
   ],
   "source": [
    "nan_df = nan_df[nan_df['prediction'].isnull()]  \n",
    "nan_df.head()"
   ]
  },
  {
   "cell_type": "markdown",
   "metadata": {},
   "source": [
    "# Data Cleaning"
   ]
  },
  {
   "cell_type": "markdown",
   "metadata": {},
   "source": [
    "### Movie Meta Data"
   ]
  },
  {
   "cell_type": "code",
   "execution_count": 12,
   "metadata": {},
   "outputs": [
    {
     "name": "stderr",
     "output_type": "stream",
     "text": [
      "/Users/tjjj/anaconda3/lib/python3.7/site-packages/IPython/core/interactiveshell.py:3049: DtypeWarning: Columns (10) have mixed types. Specify dtype option on import or set low_memory=False.\n",
      "  interactivity=interactivity, compiler=compiler, result=result)\n"
     ]
    }
   ],
   "source": [
    "meta_df = pd.read_csv('data/movies_metadata.csv')"
   ]
  },
  {
   "cell_type": "markdown",
   "metadata": {},
   "source": [
    "There are some rows that have incorrectly formatted ids. Below we locate them and remove them from the data."
   ]
  },
  {
   "cell_type": "code",
   "execution_count": 13,
   "metadata": {},
   "outputs": [
    {
     "data": {
      "text/html": [
       "<div>\n",
       "<style scoped>\n",
       "    .dataframe tbody tr th:only-of-type {\n",
       "        vertical-align: middle;\n",
       "    }\n",
       "\n",
       "    .dataframe tbody tr th {\n",
       "        vertical-align: top;\n",
       "    }\n",
       "\n",
       "    .dataframe thead th {\n",
       "        text-align: right;\n",
       "    }\n",
       "</style>\n",
       "<table border=\"1\" class=\"dataframe\">\n",
       "  <thead>\n",
       "    <tr style=\"text-align: right;\">\n",
       "      <th></th>\n",
       "      <th>adult</th>\n",
       "      <th>belongs_to_collection</th>\n",
       "      <th>budget</th>\n",
       "      <th>genres</th>\n",
       "      <th>homepage</th>\n",
       "      <th>id</th>\n",
       "      <th>imdb_id</th>\n",
       "      <th>original_language</th>\n",
       "      <th>original_title</th>\n",
       "      <th>overview</th>\n",
       "      <th>...</th>\n",
       "      <th>release_date</th>\n",
       "      <th>revenue</th>\n",
       "      <th>runtime</th>\n",
       "      <th>spoken_languages</th>\n",
       "      <th>status</th>\n",
       "      <th>tagline</th>\n",
       "      <th>title</th>\n",
       "      <th>video</th>\n",
       "      <th>vote_average</th>\n",
       "      <th>vote_count</th>\n",
       "    </tr>\n",
       "  </thead>\n",
       "  <tbody>\n",
       "    <tr>\n",
       "      <th>19730</th>\n",
       "      <td>- Written by Ørnås</td>\n",
       "      <td>0.065736</td>\n",
       "      <td>/ff9qCepilowshEtG2GYWwzt2bs4.jpg</td>\n",
       "      <td>[{'name': 'Carousel Productions', 'id': 11176}...</td>\n",
       "      <td>[{'iso_3166_1': 'CA', 'name': 'Canada'}, {'iso...</td>\n",
       "      <td>1997-08-20</td>\n",
       "      <td>0</td>\n",
       "      <td>104.0</td>\n",
       "      <td>[{'iso_639_1': 'en', 'name': 'English'}]</td>\n",
       "      <td>Released</td>\n",
       "      <td>...</td>\n",
       "      <td>1</td>\n",
       "      <td>NaN</td>\n",
       "      <td>NaN</td>\n",
       "      <td>NaN</td>\n",
       "      <td>NaN</td>\n",
       "      <td>NaN</td>\n",
       "      <td>NaN</td>\n",
       "      <td>NaN</td>\n",
       "      <td>NaN</td>\n",
       "      <td>NaN</td>\n",
       "    </tr>\n",
       "    <tr>\n",
       "      <th>29503</th>\n",
       "      <td>Rune Balot goes to a casino connected to the ...</td>\n",
       "      <td>1.931659</td>\n",
       "      <td>/zV8bHuSL6WXoD6FWogP9j4x80bL.jpg</td>\n",
       "      <td>[{'name': 'Aniplex', 'id': 2883}, {'name': 'Go...</td>\n",
       "      <td>[{'iso_3166_1': 'US', 'name': 'United States o...</td>\n",
       "      <td>2012-09-29</td>\n",
       "      <td>0</td>\n",
       "      <td>68.0</td>\n",
       "      <td>[{'iso_639_1': 'ja', 'name': '日本語'}]</td>\n",
       "      <td>Released</td>\n",
       "      <td>...</td>\n",
       "      <td>12</td>\n",
       "      <td>NaN</td>\n",
       "      <td>NaN</td>\n",
       "      <td>NaN</td>\n",
       "      <td>NaN</td>\n",
       "      <td>NaN</td>\n",
       "      <td>NaN</td>\n",
       "      <td>NaN</td>\n",
       "      <td>NaN</td>\n",
       "      <td>NaN</td>\n",
       "    </tr>\n",
       "    <tr>\n",
       "      <th>35587</th>\n",
       "      <td>Avalanche Sharks tells the story of a bikini ...</td>\n",
       "      <td>2.185485</td>\n",
       "      <td>/zaSf5OG7V8X8gqFvly88zDdRm46.jpg</td>\n",
       "      <td>[{'name': 'Odyssey Media', 'id': 17161}, {'nam...</td>\n",
       "      <td>[{'iso_3166_1': 'CA', 'name': 'Canada'}]</td>\n",
       "      <td>2014-01-01</td>\n",
       "      <td>0</td>\n",
       "      <td>82.0</td>\n",
       "      <td>[{'iso_639_1': 'en', 'name': 'English'}]</td>\n",
       "      <td>Released</td>\n",
       "      <td>...</td>\n",
       "      <td>22</td>\n",
       "      <td>NaN</td>\n",
       "      <td>NaN</td>\n",
       "      <td>NaN</td>\n",
       "      <td>NaN</td>\n",
       "      <td>NaN</td>\n",
       "      <td>NaN</td>\n",
       "      <td>NaN</td>\n",
       "      <td>NaN</td>\n",
       "      <td>NaN</td>\n",
       "    </tr>\n",
       "  </tbody>\n",
       "</table>\n",
       "<p>3 rows × 24 columns</p>\n",
       "</div>"
      ],
      "text/plain": [
       "                                                   adult  \\\n",
       "19730                                 - Written by Ørnås   \n",
       "29503   Rune Balot goes to a casino connected to the ...   \n",
       "35587   Avalanche Sharks tells the story of a bikini ...   \n",
       "\n",
       "      belongs_to_collection                            budget  \\\n",
       "19730              0.065736  /ff9qCepilowshEtG2GYWwzt2bs4.jpg   \n",
       "29503              1.931659  /zV8bHuSL6WXoD6FWogP9j4x80bL.jpg   \n",
       "35587              2.185485  /zaSf5OG7V8X8gqFvly88zDdRm46.jpg   \n",
       "\n",
       "                                                  genres  \\\n",
       "19730  [{'name': 'Carousel Productions', 'id': 11176}...   \n",
       "29503  [{'name': 'Aniplex', 'id': 2883}, {'name': 'Go...   \n",
       "35587  [{'name': 'Odyssey Media', 'id': 17161}, {'nam...   \n",
       "\n",
       "                                                homepage          id imdb_id  \\\n",
       "19730  [{'iso_3166_1': 'CA', 'name': 'Canada'}, {'iso...  1997-08-20       0   \n",
       "29503  [{'iso_3166_1': 'US', 'name': 'United States o...  2012-09-29       0   \n",
       "35587           [{'iso_3166_1': 'CA', 'name': 'Canada'}]  2014-01-01       0   \n",
       "\n",
       "      original_language                            original_title  overview  \\\n",
       "19730             104.0  [{'iso_639_1': 'en', 'name': 'English'}]  Released   \n",
       "29503              68.0      [{'iso_639_1': 'ja', 'name': '日本語'}]  Released   \n",
       "35587              82.0  [{'iso_639_1': 'en', 'name': 'English'}]  Released   \n",
       "\n",
       "       ... release_date revenue runtime spoken_languages status  tagline  \\\n",
       "19730  ...            1     NaN     NaN              NaN    NaN      NaN   \n",
       "29503  ...           12     NaN     NaN              NaN    NaN      NaN   \n",
       "35587  ...           22     NaN     NaN              NaN    NaN      NaN   \n",
       "\n",
       "       title video vote_average vote_count  \n",
       "19730    NaN   NaN          NaN        NaN  \n",
       "29503    NaN   NaN          NaN        NaN  \n",
       "35587    NaN   NaN          NaN        NaN  \n",
       "\n",
       "[3 rows x 24 columns]"
      ]
     },
     "execution_count": 13,
     "metadata": {},
     "output_type": "execute_result"
    }
   ],
   "source": [
    "meta_df[meta_df.id.str.contains('-')==True]\n",
    "#drop things that got shifted "
   ]
  },
  {
   "cell_type": "code",
   "execution_count": 14,
   "metadata": {},
   "outputs": [],
   "source": [
    "bad_ids = ['1997-08-20', '2012-09-29', '2014-01-01'] "
   ]
  },
  {
   "cell_type": "code",
   "execution_count": 15,
   "metadata": {},
   "outputs": [],
   "source": [
    "meta_df = meta_df[~meta_df['id'].isin(bad_ids)]"
   ]
  },
  {
   "cell_type": "code",
   "execution_count": 16,
   "metadata": {},
   "outputs": [],
   "source": [
    "meta_df['id'] = meta_df['id'].astype(int)  # Set all values in the id column to an integer type."
   ]
  },
  {
   "cell_type": "markdown",
   "metadata": {},
   "source": [
    "### Combining DataFrames"
   ]
  },
  {
   "cell_type": "markdown",
   "metadata": {},
   "source": [
    "#### Merging ratings_df / meta_df / users:"
   ]
  },
  {
   "cell_type": "code",
   "execution_count": 17,
   "metadata": {},
   "outputs": [
    {
     "data": {
      "text/html": [
       "<div>\n",
       "<style scoped>\n",
       "    .dataframe tbody tr th:only-of-type {\n",
       "        vertical-align: middle;\n",
       "    }\n",
       "\n",
       "    .dataframe tbody tr th {\n",
       "        vertical-align: top;\n",
       "    }\n",
       "\n",
       "    .dataframe thead th {\n",
       "        text-align: right;\n",
       "    }\n",
       "</style>\n",
       "<table border=\"1\" class=\"dataframe\">\n",
       "  <thead>\n",
       "    <tr style=\"text-align: right;\">\n",
       "      <th></th>\n",
       "      <th>0</th>\n",
       "      <th>1</th>\n",
       "      <th>2</th>\n",
       "      <th>3</th>\n",
       "      <th>4</th>\n",
       "    </tr>\n",
       "  </thead>\n",
       "  <tbody>\n",
       "    <tr>\n",
       "      <th>movie_id</th>\n",
       "      <td>858</td>\n",
       "      <td>2384</td>\n",
       "      <td>593</td>\n",
       "      <td>1961</td>\n",
       "      <td>1419</td>\n",
       "    </tr>\n",
       "    <tr>\n",
       "      <th>rating</th>\n",
       "      <td>4</td>\n",
       "      <td>4</td>\n",
       "      <td>5</td>\n",
       "      <td>4</td>\n",
       "      <td>3</td>\n",
       "    </tr>\n",
       "    <tr>\n",
       "      <th>timestamp</th>\n",
       "      <td>9.56679e+08</td>\n",
       "      <td>9.56679e+08</td>\n",
       "      <td>9.56679e+08</td>\n",
       "      <td>9.56679e+08</td>\n",
       "      <td>9.56679e+08</td>\n",
       "    </tr>\n",
       "    <tr>\n",
       "      <th>user_id</th>\n",
       "      <td>6040</td>\n",
       "      <td>6040</td>\n",
       "      <td>6040</td>\n",
       "      <td>6040</td>\n",
       "      <td>6040</td>\n",
       "    </tr>\n",
       "    <tr>\n",
       "      <th>adult</th>\n",
       "      <td>False</td>\n",
       "      <td>NaN</td>\n",
       "      <td>False</td>\n",
       "      <td>False</td>\n",
       "      <td>False</td>\n",
       "    </tr>\n",
       "    <tr>\n",
       "      <th>belongs_to_collection</th>\n",
       "      <td>NaN</td>\n",
       "      <td>NaN</td>\n",
       "      <td>NaN</td>\n",
       "      <td>NaN</td>\n",
       "      <td>NaN</td>\n",
       "    </tr>\n",
       "    <tr>\n",
       "      <th>budget</th>\n",
       "      <td>21000000</td>\n",
       "      <td>NaN</td>\n",
       "      <td>0</td>\n",
       "      <td>1500000</td>\n",
       "      <td>0</td>\n",
       "    </tr>\n",
       "    <tr>\n",
       "      <th>genres</th>\n",
       "      <td>[{'id': 35, 'name': 'Comedy'}, {'id': 18, 'nam...</td>\n",
       "      <td>NaN</td>\n",
       "      <td>[{'id': 18, 'name': 'Drama'}, {'id': 878, 'nam...</td>\n",
       "      <td>[{'id': 35, 'name': 'Comedy'}, {'id': 27, 'nam...</td>\n",
       "      <td>[{'id': 35, 'name': 'Comedy'}, {'id': 18, 'nam...</td>\n",
       "    </tr>\n",
       "    <tr>\n",
       "      <th>homepage</th>\n",
       "      <td>NaN</td>\n",
       "      <td>NaN</td>\n",
       "      <td>NaN</td>\n",
       "      <td>http://www.dhentertainment.com/projects/1.my-n...</td>\n",
       "      <td>http://www.vollidiot-derfilm.de/</td>\n",
       "    </tr>\n",
       "    <tr>\n",
       "      <th>id</th>\n",
       "      <td>858</td>\n",
       "      <td>NaN</td>\n",
       "      <td>593</td>\n",
       "      <td>1961</td>\n",
       "      <td>1419</td>\n",
       "    </tr>\n",
       "    <tr>\n",
       "      <th>imdb_id</th>\n",
       "      <td>tt0108160</td>\n",
       "      <td>NaN</td>\n",
       "      <td>tt0069293</td>\n",
       "      <td>tt0489235</td>\n",
       "      <td>tt0890888</td>\n",
       "    </tr>\n",
       "    <tr>\n",
       "      <th>original_language</th>\n",
       "      <td>en</td>\n",
       "      <td>NaN</td>\n",
       "      <td>ru</td>\n",
       "      <td>en</td>\n",
       "      <td>de</td>\n",
       "    </tr>\n",
       "    <tr>\n",
       "      <th>original_title</th>\n",
       "      <td>Sleepless in Seattle</td>\n",
       "      <td>NaN</td>\n",
       "      <td>Солярис</td>\n",
       "      <td>My Name Is Bruce</td>\n",
       "      <td>Vollidiot</td>\n",
       "    </tr>\n",
       "    <tr>\n",
       "      <th>overview</th>\n",
       "      <td>A young boy who tries to set his dad up on a d...</td>\n",
       "      <td>NaN</td>\n",
       "      <td>Ground control has been receiving strange tran...</td>\n",
       "      <td>B Movie Legend Bruce Campbell is mistaken for ...</td>\n",
       "      <td>Based on Tommy Jaud's bestselling novel, this ...</td>\n",
       "    </tr>\n",
       "    <tr>\n",
       "      <th>popularity</th>\n",
       "      <td>10.2349</td>\n",
       "      <td>NaN</td>\n",
       "      <td>11.0598</td>\n",
       "      <td>8.70879</td>\n",
       "      <td>1.99742</td>\n",
       "    </tr>\n",
       "    <tr>\n",
       "      <th>poster_path</th>\n",
       "      <td>/afkYP15OeUOD0tFEmj6VvejuOcz.jpg</td>\n",
       "      <td>NaN</td>\n",
       "      <td>/nsGLKlwEOtqatz8yRdxOlAw5utr.jpg</td>\n",
       "      <td>/sUMogIAJ23VsCyoSk4Rx0i78JcI.jpg</td>\n",
       "      <td>/41EsLkSWhpCJ0hNGo5A2L0WsZ6C.jpg</td>\n",
       "    </tr>\n",
       "    <tr>\n",
       "      <th>production_companies</th>\n",
       "      <td>[{'name': 'TriStar Pictures', 'id': 559}]</td>\n",
       "      <td>NaN</td>\n",
       "      <td>[{'name': 'Mosfilm', 'id': 5120}, {'name': 'Cr...</td>\n",
       "      <td>[{'name': 'Dark Horse Entertainment', 'id': 55...</td>\n",
       "      <td>[{'name': 'Senator Film Produktion', 'id': 191...</td>\n",
       "    </tr>\n",
       "    <tr>\n",
       "      <th>production_countries</th>\n",
       "      <td>[{'iso_3166_1': 'US', 'name': 'United States o...</td>\n",
       "      <td>NaN</td>\n",
       "      <td>[{'iso_3166_1': 'RU', 'name': 'Russia'}]</td>\n",
       "      <td>[{'iso_3166_1': 'US', 'name': 'United States o...</td>\n",
       "      <td>[{'iso_3166_1': 'DE', 'name': 'Germany'}]</td>\n",
       "    </tr>\n",
       "    <tr>\n",
       "      <th>release_date</th>\n",
       "      <td>1993-06-24</td>\n",
       "      <td>NaN</td>\n",
       "      <td>1972-03-20</td>\n",
       "      <td>2007-10-01</td>\n",
       "      <td>2007-04-11</td>\n",
       "    </tr>\n",
       "    <tr>\n",
       "      <th>revenue</th>\n",
       "      <td>2.278e+08</td>\n",
       "      <td>NaN</td>\n",
       "      <td>0</td>\n",
       "      <td>173066</td>\n",
       "      <td>0</td>\n",
       "    </tr>\n",
       "    <tr>\n",
       "      <th>runtime</th>\n",
       "      <td>105</td>\n",
       "      <td>NaN</td>\n",
       "      <td>167</td>\n",
       "      <td>86</td>\n",
       "      <td>102</td>\n",
       "    </tr>\n",
       "    <tr>\n",
       "      <th>spoken_languages</th>\n",
       "      <td>[{'iso_639_1': 'en', 'name': 'English'}]</td>\n",
       "      <td>NaN</td>\n",
       "      <td>[{'iso_639_1': 'ru', 'name': 'Pусский'}]</td>\n",
       "      <td>[{'iso_639_1': 'en', 'name': 'English'}]</td>\n",
       "      <td>[{'iso_639_1': 'de', 'name': 'Deutsch'}]</td>\n",
       "    </tr>\n",
       "    <tr>\n",
       "      <th>status</th>\n",
       "      <td>Released</td>\n",
       "      <td>NaN</td>\n",
       "      <td>Released</td>\n",
       "      <td>Released</td>\n",
       "      <td>Released</td>\n",
       "    </tr>\n",
       "    <tr>\n",
       "      <th>tagline</th>\n",
       "      <td>What if someone you never met, someone you nev...</td>\n",
       "      <td>NaN</td>\n",
       "      <td>NaN</td>\n",
       "      <td>Fearless! Unstoppable! Ready For His Close-Up!</td>\n",
       "      <td>NaN</td>\n",
       "    </tr>\n",
       "    <tr>\n",
       "      <th>title</th>\n",
       "      <td>Sleepless in Seattle</td>\n",
       "      <td>NaN</td>\n",
       "      <td>Solaris</td>\n",
       "      <td>My Name Is Bruce</td>\n",
       "      <td>Vollidiot</td>\n",
       "    </tr>\n",
       "    <tr>\n",
       "      <th>video</th>\n",
       "      <td>False</td>\n",
       "      <td>NaN</td>\n",
       "      <td>False</td>\n",
       "      <td>False</td>\n",
       "      <td>False</td>\n",
       "    </tr>\n",
       "    <tr>\n",
       "      <th>vote_average</th>\n",
       "      <td>6.5</td>\n",
       "      <td>NaN</td>\n",
       "      <td>7.7</td>\n",
       "      <td>5.9</td>\n",
       "      <td>4.3</td>\n",
       "    </tr>\n",
       "    <tr>\n",
       "      <th>vote_count</th>\n",
       "      <td>630</td>\n",
       "      <td>NaN</td>\n",
       "      <td>364</td>\n",
       "      <td>107</td>\n",
       "      <td>25</td>\n",
       "    </tr>\n",
       "    <tr>\n",
       "      <th>gender</th>\n",
       "      <td>M</td>\n",
       "      <td>M</td>\n",
       "      <td>M</td>\n",
       "      <td>M</td>\n",
       "      <td>M</td>\n",
       "    </tr>\n",
       "    <tr>\n",
       "      <th>min_age</th>\n",
       "      <td>25</td>\n",
       "      <td>25</td>\n",
       "      <td>25</td>\n",
       "      <td>25</td>\n",
       "      <td>25</td>\n",
       "    </tr>\n",
       "    <tr>\n",
       "      <th>occupation</th>\n",
       "      <td>6</td>\n",
       "      <td>6</td>\n",
       "      <td>6</td>\n",
       "      <td>6</td>\n",
       "      <td>6</td>\n",
       "    </tr>\n",
       "    <tr>\n",
       "      <th>zipcode</th>\n",
       "      <td>11106</td>\n",
       "      <td>11106</td>\n",
       "      <td>11106</td>\n",
       "      <td>11106</td>\n",
       "      <td>11106</td>\n",
       "    </tr>\n",
       "  </tbody>\n",
       "</table>\n",
       "</div>"
      ],
      "text/plain": [
       "                                                                       0  \\\n",
       "movie_id                                                             858   \n",
       "rating                                                                 4   \n",
       "timestamp                                                    9.56679e+08   \n",
       "user_id                                                             6040   \n",
       "adult                                                              False   \n",
       "belongs_to_collection                                                NaN   \n",
       "budget                                                          21000000   \n",
       "genres                 [{'id': 35, 'name': 'Comedy'}, {'id': 18, 'nam...   \n",
       "homepage                                                             NaN   \n",
       "id                                                                   858   \n",
       "imdb_id                                                        tt0108160   \n",
       "original_language                                                     en   \n",
       "original_title                                      Sleepless in Seattle   \n",
       "overview               A young boy who tries to set his dad up on a d...   \n",
       "popularity                                                       10.2349   \n",
       "poster_path                             /afkYP15OeUOD0tFEmj6VvejuOcz.jpg   \n",
       "production_companies           [{'name': 'TriStar Pictures', 'id': 559}]   \n",
       "production_countries   [{'iso_3166_1': 'US', 'name': 'United States o...   \n",
       "release_date                                                  1993-06-24   \n",
       "revenue                                                        2.278e+08   \n",
       "runtime                                                              105   \n",
       "spoken_languages                [{'iso_639_1': 'en', 'name': 'English'}]   \n",
       "status                                                          Released   \n",
       "tagline                What if someone you never met, someone you nev...   \n",
       "title                                               Sleepless in Seattle   \n",
       "video                                                              False   \n",
       "vote_average                                                         6.5   \n",
       "vote_count                                                           630   \n",
       "gender                                                                 M   \n",
       "min_age                                                               25   \n",
       "occupation                                                             6   \n",
       "zipcode                                                            11106   \n",
       "\n",
       "                                 1  \\\n",
       "movie_id                      2384   \n",
       "rating                           4   \n",
       "timestamp              9.56679e+08   \n",
       "user_id                       6040   \n",
       "adult                          NaN   \n",
       "belongs_to_collection          NaN   \n",
       "budget                         NaN   \n",
       "genres                         NaN   \n",
       "homepage                       NaN   \n",
       "id                             NaN   \n",
       "imdb_id                        NaN   \n",
       "original_language              NaN   \n",
       "original_title                 NaN   \n",
       "overview                       NaN   \n",
       "popularity                     NaN   \n",
       "poster_path                    NaN   \n",
       "production_companies           NaN   \n",
       "production_countries           NaN   \n",
       "release_date                   NaN   \n",
       "revenue                        NaN   \n",
       "runtime                        NaN   \n",
       "spoken_languages               NaN   \n",
       "status                         NaN   \n",
       "tagline                        NaN   \n",
       "title                          NaN   \n",
       "video                          NaN   \n",
       "vote_average                   NaN   \n",
       "vote_count                     NaN   \n",
       "gender                           M   \n",
       "min_age                         25   \n",
       "occupation                       6   \n",
       "zipcode                      11106   \n",
       "\n",
       "                                                                       2  \\\n",
       "movie_id                                                             593   \n",
       "rating                                                                 5   \n",
       "timestamp                                                    9.56679e+08   \n",
       "user_id                                                             6040   \n",
       "adult                                                              False   \n",
       "belongs_to_collection                                                NaN   \n",
       "budget                                                                 0   \n",
       "genres                 [{'id': 18, 'name': 'Drama'}, {'id': 878, 'nam...   \n",
       "homepage                                                             NaN   \n",
       "id                                                                   593   \n",
       "imdb_id                                                        tt0069293   \n",
       "original_language                                                     ru   \n",
       "original_title                                                   Солярис   \n",
       "overview               Ground control has been receiving strange tran...   \n",
       "popularity                                                       11.0598   \n",
       "poster_path                             /nsGLKlwEOtqatz8yRdxOlAw5utr.jpg   \n",
       "production_companies   [{'name': 'Mosfilm', 'id': 5120}, {'name': 'Cr...   \n",
       "production_countries            [{'iso_3166_1': 'RU', 'name': 'Russia'}]   \n",
       "release_date                                                  1972-03-20   \n",
       "revenue                                                                0   \n",
       "runtime                                                              167   \n",
       "spoken_languages                [{'iso_639_1': 'ru', 'name': 'Pусский'}]   \n",
       "status                                                          Released   \n",
       "tagline                                                              NaN   \n",
       "title                                                            Solaris   \n",
       "video                                                              False   \n",
       "vote_average                                                         7.7   \n",
       "vote_count                                                           364   \n",
       "gender                                                                 M   \n",
       "min_age                                                               25   \n",
       "occupation                                                             6   \n",
       "zipcode                                                            11106   \n",
       "\n",
       "                                                                       3  \\\n",
       "movie_id                                                            1961   \n",
       "rating                                                                 4   \n",
       "timestamp                                                    9.56679e+08   \n",
       "user_id                                                             6040   \n",
       "adult                                                              False   \n",
       "belongs_to_collection                                                NaN   \n",
       "budget                                                           1500000   \n",
       "genres                 [{'id': 35, 'name': 'Comedy'}, {'id': 27, 'nam...   \n",
       "homepage               http://www.dhentertainment.com/projects/1.my-n...   \n",
       "id                                                                  1961   \n",
       "imdb_id                                                        tt0489235   \n",
       "original_language                                                     en   \n",
       "original_title                                          My Name Is Bruce   \n",
       "overview               B Movie Legend Bruce Campbell is mistaken for ...   \n",
       "popularity                                                       8.70879   \n",
       "poster_path                             /sUMogIAJ23VsCyoSk4Rx0i78JcI.jpg   \n",
       "production_companies   [{'name': 'Dark Horse Entertainment', 'id': 55...   \n",
       "production_countries   [{'iso_3166_1': 'US', 'name': 'United States o...   \n",
       "release_date                                                  2007-10-01   \n",
       "revenue                                                           173066   \n",
       "runtime                                                               86   \n",
       "spoken_languages                [{'iso_639_1': 'en', 'name': 'English'}]   \n",
       "status                                                          Released   \n",
       "tagline                   Fearless! Unstoppable! Ready For His Close-Up!   \n",
       "title                                                   My Name Is Bruce   \n",
       "video                                                              False   \n",
       "vote_average                                                         5.9   \n",
       "vote_count                                                           107   \n",
       "gender                                                                 M   \n",
       "min_age                                                               25   \n",
       "occupation                                                             6   \n",
       "zipcode                                                            11106   \n",
       "\n",
       "                                                                       4  \n",
       "movie_id                                                            1419  \n",
       "rating                                                                 3  \n",
       "timestamp                                                    9.56679e+08  \n",
       "user_id                                                             6040  \n",
       "adult                                                              False  \n",
       "belongs_to_collection                                                NaN  \n",
       "budget                                                                 0  \n",
       "genres                 [{'id': 35, 'name': 'Comedy'}, {'id': 18, 'nam...  \n",
       "homepage                                http://www.vollidiot-derfilm.de/  \n",
       "id                                                                  1419  \n",
       "imdb_id                                                        tt0890888  \n",
       "original_language                                                     de  \n",
       "original_title                                                 Vollidiot  \n",
       "overview               Based on Tommy Jaud's bestselling novel, this ...  \n",
       "popularity                                                       1.99742  \n",
       "poster_path                             /41EsLkSWhpCJ0hNGo5A2L0WsZ6C.jpg  \n",
       "production_companies   [{'name': 'Senator Film Produktion', 'id': 191...  \n",
       "production_countries           [{'iso_3166_1': 'DE', 'name': 'Germany'}]  \n",
       "release_date                                                  2007-04-11  \n",
       "revenue                                                                0  \n",
       "runtime                                                              102  \n",
       "spoken_languages                [{'iso_639_1': 'de', 'name': 'Deutsch'}]  \n",
       "status                                                          Released  \n",
       "tagline                                                              NaN  \n",
       "title                                                          Vollidiot  \n",
       "video                                                              False  \n",
       "vote_average                                                         4.3  \n",
       "vote_count                                                            25  \n",
       "gender                                                                 M  \n",
       "min_age                                                               25  \n",
       "occupation                                                             6  \n",
       "zipcode                                                            11106  "
      ]
     },
     "execution_count": 17,
     "metadata": {},
     "output_type": "execute_result"
    }
   ],
   "source": [
    "all_training_data_df = ratings_df.merge(meta_df, how='left', left_on='movie_id', right_on='id')\n",
    "all_training_data_df = all_training_data_df.merge(users, how='left', left_on='user_id', right_on='user_id')\n",
    "all_training_data_df.head().T"
   ]
  },
  {
   "cell_type": "markdown",
   "metadata": {},
   "source": [
    "#### Merging the nan_df with meta_df and users:"
   ]
  },
  {
   "cell_type": "code",
   "execution_count": 18,
   "metadata": {},
   "outputs": [
    {
     "data": {
      "text/html": [
       "<div>\n",
       "<style scoped>\n",
       "    .dataframe tbody tr th:only-of-type {\n",
       "        vertical-align: middle;\n",
       "    }\n",
       "\n",
       "    .dataframe tbody tr th {\n",
       "        vertical-align: top;\n",
       "    }\n",
       "\n",
       "    .dataframe thead th {\n",
       "        text-align: right;\n",
       "    }\n",
       "</style>\n",
       "<table border=\"1\" class=\"dataframe\">\n",
       "  <thead>\n",
       "    <tr style=\"text-align: right;\">\n",
       "      <th></th>\n",
       "      <th>movie_id</th>\n",
       "      <th>rating</th>\n",
       "      <th>timestamp</th>\n",
       "      <th>user_id</th>\n",
       "      <th>prediction</th>\n",
       "      <th>adult</th>\n",
       "      <th>belongs_to_collection</th>\n",
       "      <th>budget</th>\n",
       "      <th>genres</th>\n",
       "      <th>homepage</th>\n",
       "      <th>...</th>\n",
       "      <th>status</th>\n",
       "      <th>tagline</th>\n",
       "      <th>title</th>\n",
       "      <th>video</th>\n",
       "      <th>vote_average</th>\n",
       "      <th>vote_count</th>\n",
       "      <th>gender</th>\n",
       "      <th>min_age</th>\n",
       "      <th>occupation</th>\n",
       "      <th>zipcode</th>\n",
       "    </tr>\n",
       "  </thead>\n",
       "  <tbody>\n",
       "    <tr>\n",
       "      <th>0</th>\n",
       "      <td>148</td>\n",
       "      <td>NaN</td>\n",
       "      <td>977959026.0</td>\n",
       "      <td>53</td>\n",
       "      <td>NaN</td>\n",
       "      <td>False</td>\n",
       "      <td>NaN</td>\n",
       "      <td>5000000</td>\n",
       "      <td>[{'id': 18, 'name': 'Drama'}, {'id': 10749, 'n...</td>\n",
       "      <td>NaN</td>\n",
       "      <td>...</td>\n",
       "      <td>Released</td>\n",
       "      <td>NaN</td>\n",
       "      <td>The Secret Life of Words</td>\n",
       "      <td>False</td>\n",
       "      <td>6.8</td>\n",
       "      <td>52.0</td>\n",
       "      <td>M</td>\n",
       "      <td>25</td>\n",
       "      <td>0</td>\n",
       "      <td>96931</td>\n",
       "    </tr>\n",
       "    <tr>\n",
       "      <th>1</th>\n",
       "      <td>148</td>\n",
       "      <td>NaN</td>\n",
       "      <td>976841639.0</td>\n",
       "      <td>216</td>\n",
       "      <td>NaN</td>\n",
       "      <td>False</td>\n",
       "      <td>NaN</td>\n",
       "      <td>5000000</td>\n",
       "      <td>[{'id': 18, 'name': 'Drama'}, {'id': 10749, 'n...</td>\n",
       "      <td>NaN</td>\n",
       "      <td>...</td>\n",
       "      <td>Released</td>\n",
       "      <td>NaN</td>\n",
       "      <td>The Secret Life of Words</td>\n",
       "      <td>False</td>\n",
       "      <td>6.8</td>\n",
       "      <td>52.0</td>\n",
       "      <td>M</td>\n",
       "      <td>45</td>\n",
       "      <td>13</td>\n",
       "      <td>52761</td>\n",
       "    </tr>\n",
       "  </tbody>\n",
       "</table>\n",
       "<p>2 rows × 33 columns</p>\n",
       "</div>"
      ],
      "text/plain": [
       "   movie_id  rating    timestamp  user_id  prediction  adult  \\\n",
       "0       148     NaN  977959026.0       53         NaN  False   \n",
       "1       148     NaN  976841639.0      216         NaN  False   \n",
       "\n",
       "  belongs_to_collection   budget  \\\n",
       "0                   NaN  5000000   \n",
       "1                   NaN  5000000   \n",
       "\n",
       "                                              genres homepage  ...    status  \\\n",
       "0  [{'id': 18, 'name': 'Drama'}, {'id': 10749, 'n...      NaN  ...  Released   \n",
       "1  [{'id': 18, 'name': 'Drama'}, {'id': 10749, 'n...      NaN  ...  Released   \n",
       "\n",
       "  tagline                     title  video vote_average vote_count gender  \\\n",
       "0     NaN  The Secret Life of Words  False          6.8       52.0      M   \n",
       "1     NaN  The Secret Life of Words  False          6.8       52.0      M   \n",
       "\n",
       "  min_age occupation zipcode  \n",
       "0      25          0   96931  \n",
       "1      45         13   52761  \n",
       "\n",
       "[2 rows x 33 columns]"
      ]
     },
     "execution_count": 18,
     "metadata": {},
     "output_type": "execute_result"
    }
   ],
   "source": [
    "all_data_df = nan_df.merge(meta_df, how='left', left_on='movie_id', right_on='id')\n",
    "all_data_df = all_data_df.merge(users, how='left', left_on='user_id', right_on='user_id')\n",
    "all_data_df.head(2)"
   ]
  },
  {
   "cell_type": "markdown",
   "metadata": {},
   "source": [
    "# Testing Data"
   ]
  },
  {
   "cell_type": "code",
   "execution_count": 19,
   "metadata": {},
   "outputs": [],
   "source": [
    "X = all_data_df.filter(['occupation','min_age','gender','vote_count', 'vote_average', \n",
    "                'runtime', 'revenue', 'release_date', 'popularity', \n",
    "               'budget', 'adult', 'user_id', 'movie_id'], axis=1)"
   ]
  },
  {
   "cell_type": "code",
   "execution_count": 20,
   "metadata": {},
   "outputs": [],
   "source": [
    "y = all_data_df.filter(['prediction'], axis=1)"
   ]
  },
  {
   "cell_type": "markdown",
   "metadata": {},
   "source": [
    "#### Data Cleaning"
   ]
  },
  {
   "cell_type": "code",
   "execution_count": 21,
   "metadata": {},
   "outputs": [],
   "source": [
    "# Converting the gender feature to a 1 (F) or 0 (M).\n",
    "gender_dict = {'M':0, 'F':1}\n",
    "X['gender'] = X['gender'].replace(gender_dict)"
   ]
  },
  {
   "cell_type": "code",
   "execution_count": 22,
   "metadata": {},
   "outputs": [],
   "source": [
    "# Converting adult videos to a boolean. \n",
    "adult_dict = {'True':True, 'False':False}\n",
    "\n",
    "X['adult'] = X['adult'].replace(adult_dict)\n",
    "X['adult'] = X['adult'].astype(bool)"
   ]
  },
  {
   "cell_type": "code",
   "execution_count": 23,
   "metadata": {},
   "outputs": [],
   "source": [
    "# Converting budget column to a float.\n",
    "X['budget'] = X['budget'].astype(float)"
   ]
  },
  {
   "cell_type": "code",
   "execution_count": 24,
   "metadata": {},
   "outputs": [],
   "source": [
    "# Converting release date to an integer.\n",
    "X['release_date'] = pd.DatetimeIndex(X['release_date']).astype(np.int64)"
   ]
  },
  {
   "cell_type": "code",
   "execution_count": 25,
   "metadata": {},
   "outputs": [],
   "source": [
    "# Converting popularity to a float.\n",
    "X['popularity'] = X['popularity'].astype(float)"
   ]
  },
  {
   "cell_type": "markdown",
   "metadata": {},
   "source": [
    "#### One Hot Encoding Occupation Column"
   ]
  },
  {
   "cell_type": "code",
   "execution_count": 26,
   "metadata": {},
   "outputs": [
    {
     "name": "stderr",
     "output_type": "stream",
     "text": [
      "/Users/tjjj/anaconda3/lib/python3.7/site-packages/sklearn/preprocessing/_encoders.py:371: FutureWarning: The handling of integer data will change in version 0.22. Currently, the categories are determined based on the range [0, max(values)], while in the future they will be determined based on the unique values.\n",
      "If you want the future behaviour and silence this warning, you can specify \"categories='auto'\".\n",
      "In case you used a LabelEncoder before this OneHotEncoder to convert the categories to integers, then you can now use the OneHotEncoder directly.\n",
      "  warnings.warn(msg, FutureWarning)\n"
     ]
    }
   ],
   "source": [
    "#one-hot encode occupation\n",
    "enc_cols = X['occupation'].values.reshape(-1, 1)\n",
    "encoder = OneHotEncoder().fit(enc_cols)\n",
    "encoder.get_feature_names(['occupation'])\n",
    "\n",
    "ohe = pd.DataFrame(encoder.transform(enc_cols).toarray(),\n",
    "                   columns=encoder.get_feature_names(['occupation']))\n",
    "\n",
    "X = pd.concat([X.drop(['occupation'], axis=1), ohe], axis=1, )"
   ]
  },
  {
   "cell_type": "code",
   "execution_count": 27,
   "metadata": {},
   "outputs": [
    {
     "data": {
      "text/html": [
       "<div>\n",
       "<style scoped>\n",
       "    .dataframe tbody tr th:only-of-type {\n",
       "        vertical-align: middle;\n",
       "    }\n",
       "\n",
       "    .dataframe tbody tr th {\n",
       "        vertical-align: top;\n",
       "    }\n",
       "\n",
       "    .dataframe thead th {\n",
       "        text-align: right;\n",
       "    }\n",
       "</style>\n",
       "<table border=\"1\" class=\"dataframe\">\n",
       "  <thead>\n",
       "    <tr style=\"text-align: right;\">\n",
       "      <th></th>\n",
       "      <th>0</th>\n",
       "      <th>1</th>\n",
       "      <th>2</th>\n",
       "      <th>3</th>\n",
       "      <th>4</th>\n",
       "    </tr>\n",
       "  </thead>\n",
       "  <tbody>\n",
       "    <tr>\n",
       "      <th>min_age</th>\n",
       "      <td>25</td>\n",
       "      <td>45</td>\n",
       "      <td>25</td>\n",
       "      <td>25</td>\n",
       "      <td>25</td>\n",
       "    </tr>\n",
       "    <tr>\n",
       "      <th>gender</th>\n",
       "      <td>0</td>\n",
       "      <td>0</td>\n",
       "      <td>0</td>\n",
       "      <td>0</td>\n",
       "      <td>0</td>\n",
       "    </tr>\n",
       "    <tr>\n",
       "      <th>vote_count</th>\n",
       "      <td>52</td>\n",
       "      <td>52</td>\n",
       "      <td>52</td>\n",
       "      <td>52</td>\n",
       "      <td>NaN</td>\n",
       "    </tr>\n",
       "    <tr>\n",
       "      <th>vote_average</th>\n",
       "      <td>6.8</td>\n",
       "      <td>6.8</td>\n",
       "      <td>6.8</td>\n",
       "      <td>6.8</td>\n",
       "      <td>NaN</td>\n",
       "    </tr>\n",
       "    <tr>\n",
       "      <th>runtime</th>\n",
       "      <td>112</td>\n",
       "      <td>112</td>\n",
       "      <td>112</td>\n",
       "      <td>112</td>\n",
       "      <td>NaN</td>\n",
       "    </tr>\n",
       "    <tr>\n",
       "      <th>revenue</th>\n",
       "      <td>0</td>\n",
       "      <td>0</td>\n",
       "      <td>0</td>\n",
       "      <td>0</td>\n",
       "      <td>NaN</td>\n",
       "    </tr>\n",
       "    <tr>\n",
       "      <th>release_date</th>\n",
       "      <td>1134604800000000000</td>\n",
       "      <td>1134604800000000000</td>\n",
       "      <td>1134604800000000000</td>\n",
       "      <td>1134604800000000000</td>\n",
       "      <td>-9223372036854775808</td>\n",
       "    </tr>\n",
       "    <tr>\n",
       "      <th>popularity</th>\n",
       "      <td>12.7756</td>\n",
       "      <td>12.7756</td>\n",
       "      <td>12.7756</td>\n",
       "      <td>12.7756</td>\n",
       "      <td>NaN</td>\n",
       "    </tr>\n",
       "    <tr>\n",
       "      <th>budget</th>\n",
       "      <td>5e+06</td>\n",
       "      <td>5e+06</td>\n",
       "      <td>5e+06</td>\n",
       "      <td>5e+06</td>\n",
       "      <td>NaN</td>\n",
       "    </tr>\n",
       "    <tr>\n",
       "      <th>adult</th>\n",
       "      <td>False</td>\n",
       "      <td>False</td>\n",
       "      <td>False</td>\n",
       "      <td>False</td>\n",
       "      <td>True</td>\n",
       "    </tr>\n",
       "    <tr>\n",
       "      <th>user_id</th>\n",
       "      <td>53</td>\n",
       "      <td>216</td>\n",
       "      <td>482</td>\n",
       "      <td>424</td>\n",
       "      <td>26</td>\n",
       "    </tr>\n",
       "    <tr>\n",
       "      <th>movie_id</th>\n",
       "      <td>148</td>\n",
       "      <td>148</td>\n",
       "      <td>148</td>\n",
       "      <td>148</td>\n",
       "      <td>463</td>\n",
       "    </tr>\n",
       "    <tr>\n",
       "      <th>occupation_0.0</th>\n",
       "      <td>1</td>\n",
       "      <td>0</td>\n",
       "      <td>0</td>\n",
       "      <td>0</td>\n",
       "      <td>0</td>\n",
       "    </tr>\n",
       "    <tr>\n",
       "      <th>occupation_1.0</th>\n",
       "      <td>0</td>\n",
       "      <td>0</td>\n",
       "      <td>0</td>\n",
       "      <td>0</td>\n",
       "      <td>0</td>\n",
       "    </tr>\n",
       "    <tr>\n",
       "      <th>occupation_2.0</th>\n",
       "      <td>0</td>\n",
       "      <td>0</td>\n",
       "      <td>0</td>\n",
       "      <td>0</td>\n",
       "      <td>0</td>\n",
       "    </tr>\n",
       "    <tr>\n",
       "      <th>occupation_3.0</th>\n",
       "      <td>0</td>\n",
       "      <td>0</td>\n",
       "      <td>0</td>\n",
       "      <td>0</td>\n",
       "      <td>0</td>\n",
       "    </tr>\n",
       "    <tr>\n",
       "      <th>occupation_4.0</th>\n",
       "      <td>0</td>\n",
       "      <td>0</td>\n",
       "      <td>0</td>\n",
       "      <td>0</td>\n",
       "      <td>0</td>\n",
       "    </tr>\n",
       "    <tr>\n",
       "      <th>occupation_5.0</th>\n",
       "      <td>0</td>\n",
       "      <td>0</td>\n",
       "      <td>0</td>\n",
       "      <td>0</td>\n",
       "      <td>0</td>\n",
       "    </tr>\n",
       "    <tr>\n",
       "      <th>occupation_6.0</th>\n",
       "      <td>0</td>\n",
       "      <td>0</td>\n",
       "      <td>0</td>\n",
       "      <td>0</td>\n",
       "      <td>0</td>\n",
       "    </tr>\n",
       "    <tr>\n",
       "      <th>occupation_7.0</th>\n",
       "      <td>0</td>\n",
       "      <td>0</td>\n",
       "      <td>0</td>\n",
       "      <td>0</td>\n",
       "      <td>1</td>\n",
       "    </tr>\n",
       "    <tr>\n",
       "      <th>occupation_8.0</th>\n",
       "      <td>0</td>\n",
       "      <td>0</td>\n",
       "      <td>0</td>\n",
       "      <td>0</td>\n",
       "      <td>0</td>\n",
       "    </tr>\n",
       "    <tr>\n",
       "      <th>occupation_9.0</th>\n",
       "      <td>0</td>\n",
       "      <td>0</td>\n",
       "      <td>0</td>\n",
       "      <td>0</td>\n",
       "      <td>0</td>\n",
       "    </tr>\n",
       "    <tr>\n",
       "      <th>occupation_10.0</th>\n",
       "      <td>0</td>\n",
       "      <td>0</td>\n",
       "      <td>0</td>\n",
       "      <td>0</td>\n",
       "      <td>0</td>\n",
       "    </tr>\n",
       "    <tr>\n",
       "      <th>occupation_11.0</th>\n",
       "      <td>0</td>\n",
       "      <td>0</td>\n",
       "      <td>0</td>\n",
       "      <td>0</td>\n",
       "      <td>0</td>\n",
       "    </tr>\n",
       "    <tr>\n",
       "      <th>occupation_12.0</th>\n",
       "      <td>0</td>\n",
       "      <td>0</td>\n",
       "      <td>0</td>\n",
       "      <td>0</td>\n",
       "      <td>0</td>\n",
       "    </tr>\n",
       "    <tr>\n",
       "      <th>occupation_13.0</th>\n",
       "      <td>0</td>\n",
       "      <td>1</td>\n",
       "      <td>0</td>\n",
       "      <td>0</td>\n",
       "      <td>0</td>\n",
       "    </tr>\n",
       "    <tr>\n",
       "      <th>occupation_14.0</th>\n",
       "      <td>0</td>\n",
       "      <td>0</td>\n",
       "      <td>1</td>\n",
       "      <td>0</td>\n",
       "      <td>0</td>\n",
       "    </tr>\n",
       "    <tr>\n",
       "      <th>occupation_15.0</th>\n",
       "      <td>0</td>\n",
       "      <td>0</td>\n",
       "      <td>0</td>\n",
       "      <td>0</td>\n",
       "      <td>0</td>\n",
       "    </tr>\n",
       "    <tr>\n",
       "      <th>occupation_16.0</th>\n",
       "      <td>0</td>\n",
       "      <td>0</td>\n",
       "      <td>0</td>\n",
       "      <td>0</td>\n",
       "      <td>0</td>\n",
       "    </tr>\n",
       "    <tr>\n",
       "      <th>occupation_17.0</th>\n",
       "      <td>0</td>\n",
       "      <td>0</td>\n",
       "      <td>0</td>\n",
       "      <td>1</td>\n",
       "      <td>0</td>\n",
       "    </tr>\n",
       "    <tr>\n",
       "      <th>occupation_18.0</th>\n",
       "      <td>0</td>\n",
       "      <td>0</td>\n",
       "      <td>0</td>\n",
       "      <td>0</td>\n",
       "      <td>0</td>\n",
       "    </tr>\n",
       "    <tr>\n",
       "      <th>occupation_19.0</th>\n",
       "      <td>0</td>\n",
       "      <td>0</td>\n",
       "      <td>0</td>\n",
       "      <td>0</td>\n",
       "      <td>0</td>\n",
       "    </tr>\n",
       "    <tr>\n",
       "      <th>occupation_20.0</th>\n",
       "      <td>0</td>\n",
       "      <td>0</td>\n",
       "      <td>0</td>\n",
       "      <td>0</td>\n",
       "      <td>0</td>\n",
       "    </tr>\n",
       "  </tbody>\n",
       "</table>\n",
       "</div>"
      ],
      "text/plain": [
       "                                   0                    1  \\\n",
       "min_age                           25                   45   \n",
       "gender                             0                    0   \n",
       "vote_count                        52                   52   \n",
       "vote_average                     6.8                  6.8   \n",
       "runtime                          112                  112   \n",
       "revenue                            0                    0   \n",
       "release_date     1134604800000000000  1134604800000000000   \n",
       "popularity                   12.7756              12.7756   \n",
       "budget                         5e+06                5e+06   \n",
       "adult                          False                False   \n",
       "user_id                           53                  216   \n",
       "movie_id                         148                  148   \n",
       "occupation_0.0                     1                    0   \n",
       "occupation_1.0                     0                    0   \n",
       "occupation_2.0                     0                    0   \n",
       "occupation_3.0                     0                    0   \n",
       "occupation_4.0                     0                    0   \n",
       "occupation_5.0                     0                    0   \n",
       "occupation_6.0                     0                    0   \n",
       "occupation_7.0                     0                    0   \n",
       "occupation_8.0                     0                    0   \n",
       "occupation_9.0                     0                    0   \n",
       "occupation_10.0                    0                    0   \n",
       "occupation_11.0                    0                    0   \n",
       "occupation_12.0                    0                    0   \n",
       "occupation_13.0                    0                    1   \n",
       "occupation_14.0                    0                    0   \n",
       "occupation_15.0                    0                    0   \n",
       "occupation_16.0                    0                    0   \n",
       "occupation_17.0                    0                    0   \n",
       "occupation_18.0                    0                    0   \n",
       "occupation_19.0                    0                    0   \n",
       "occupation_20.0                    0                    0   \n",
       "\n",
       "                                   2                    3  \\\n",
       "min_age                           25                   25   \n",
       "gender                             0                    0   \n",
       "vote_count                        52                   52   \n",
       "vote_average                     6.8                  6.8   \n",
       "runtime                          112                  112   \n",
       "revenue                            0                    0   \n",
       "release_date     1134604800000000000  1134604800000000000   \n",
       "popularity                   12.7756              12.7756   \n",
       "budget                         5e+06                5e+06   \n",
       "adult                          False                False   \n",
       "user_id                          482                  424   \n",
       "movie_id                         148                  148   \n",
       "occupation_0.0                     0                    0   \n",
       "occupation_1.0                     0                    0   \n",
       "occupation_2.0                     0                    0   \n",
       "occupation_3.0                     0                    0   \n",
       "occupation_4.0                     0                    0   \n",
       "occupation_5.0                     0                    0   \n",
       "occupation_6.0                     0                    0   \n",
       "occupation_7.0                     0                    0   \n",
       "occupation_8.0                     0                    0   \n",
       "occupation_9.0                     0                    0   \n",
       "occupation_10.0                    0                    0   \n",
       "occupation_11.0                    0                    0   \n",
       "occupation_12.0                    0                    0   \n",
       "occupation_13.0                    0                    0   \n",
       "occupation_14.0                    1                    0   \n",
       "occupation_15.0                    0                    0   \n",
       "occupation_16.0                    0                    0   \n",
       "occupation_17.0                    0                    1   \n",
       "occupation_18.0                    0                    0   \n",
       "occupation_19.0                    0                    0   \n",
       "occupation_20.0                    0                    0   \n",
       "\n",
       "                                    4  \n",
       "min_age                            25  \n",
       "gender                              0  \n",
       "vote_count                        NaN  \n",
       "vote_average                      NaN  \n",
       "runtime                           NaN  \n",
       "revenue                           NaN  \n",
       "release_date     -9223372036854775808  \n",
       "popularity                        NaN  \n",
       "budget                            NaN  \n",
       "adult                            True  \n",
       "user_id                            26  \n",
       "movie_id                          463  \n",
       "occupation_0.0                      0  \n",
       "occupation_1.0                      0  \n",
       "occupation_2.0                      0  \n",
       "occupation_3.0                      0  \n",
       "occupation_4.0                      0  \n",
       "occupation_5.0                      0  \n",
       "occupation_6.0                      0  \n",
       "occupation_7.0                      1  \n",
       "occupation_8.0                      0  \n",
       "occupation_9.0                      0  \n",
       "occupation_10.0                     0  \n",
       "occupation_11.0                     0  \n",
       "occupation_12.0                     0  \n",
       "occupation_13.0                     0  \n",
       "occupation_14.0                     0  \n",
       "occupation_15.0                     0  \n",
       "occupation_16.0                     0  \n",
       "occupation_17.0                     0  \n",
       "occupation_18.0                     0  \n",
       "occupation_19.0                     0  \n",
       "occupation_20.0                     0  "
      ]
     },
     "execution_count": 27,
     "metadata": {},
     "output_type": "execute_result"
    }
   ],
   "source": [
    "X.head().T"
   ]
  },
  {
   "cell_type": "code",
   "execution_count": 28,
   "metadata": {},
   "outputs": [],
   "source": [
    "# Removing 'other/not specified' occupation\n",
    "X.drop(['occupation_0.0'], axis=1, inplace=True)"
   ]
  },
  {
   "cell_type": "code",
   "execution_count": 29,
   "metadata": {},
   "outputs": [],
   "source": [
    "# Populating occupation column with actual names\n",
    "X.rename({'occupation_1.0':'academic_educator', \n",
    "          'occupation_2.0':'artist',\n",
    "         'occupation_3.0':'clerical_admin',\n",
    "         'occupation_4.0':'coll_grad_student',\n",
    "         'occupation_5.0':'cust_service',\n",
    "         'occupation_6.0':'doctor',\n",
    "         'occupation_7.0':'exec',\n",
    "         'occupation_8.0':'farmer',\n",
    "         'occupation_9.0':'homemaker',\n",
    "         'occupation_10.0':'young_student',\n",
    "         'occupation_11.0':'lawyer',\n",
    "         'occupation_12.0':'programmer',\n",
    "         'occupation_13.0':'retired',\n",
    "         'occupation_14.0':'sales_mkting',\n",
    "          'occupation_15.0':'scientist',\n",
    "         'occupation_16.0':'self_employed',\n",
    "         'occupation_17.0':'tech_eng',\n",
    "         'occupation_18.0':'tradesman',\n",
    "          'occupation_19.0':'unemployed',\n",
    "          'occupation_20.0':'writer',}, axis=1, inplace=True)"
   ]
  },
  {
   "cell_type": "code",
   "execution_count": 30,
   "metadata": {},
   "outputs": [
    {
     "name": "stdout",
     "output_type": "stream",
     "text": [
      "<class 'pandas.core.frame.DataFrame'>\n",
      "Int64Index: 95628 entries, 0 to 95627\n",
      "Data columns (total 32 columns):\n",
      "min_age              95628 non-null int64\n",
      "gender               95628 non-null int64\n",
      "vote_count           48000 non-null float64\n",
      "vote_average         48000 non-null float64\n",
      "runtime              48000 non-null float64\n",
      "revenue              48000 non-null float64\n",
      "release_date         95628 non-null int64\n",
      "popularity           48000 non-null float64\n",
      "budget               48000 non-null float64\n",
      "adult                95628 non-null bool\n",
      "user_id              95628 non-null int64\n",
      "movie_id             95628 non-null int64\n",
      "academic_educator    95628 non-null float64\n",
      "artist               95628 non-null float64\n",
      "clerical_admin       95628 non-null float64\n",
      "coll_grad_student    95628 non-null float64\n",
      "cust_service         95628 non-null float64\n",
      "doctor               95628 non-null float64\n",
      "exec                 95628 non-null float64\n",
      "farmer               95628 non-null float64\n",
      "homemaker            95628 non-null float64\n",
      "young_student        95628 non-null float64\n",
      "lawyer               95628 non-null float64\n",
      "programmer           95628 non-null float64\n",
      "retired              95628 non-null float64\n",
      "sales_mkting         95628 non-null float64\n",
      "scientist            95628 non-null float64\n",
      "self_employed        95628 non-null float64\n",
      "tech_eng             95628 non-null float64\n",
      "tradesman            95628 non-null float64\n",
      "unemployed           95628 non-null float64\n",
      "writer               95628 non-null float64\n",
      "dtypes: bool(1), float64(26), int64(5)\n",
      "memory usage: 23.4 MB\n"
     ]
    }
   ],
   "source": [
    "X.info()"
   ]
  },
  {
   "cell_type": "markdown",
   "metadata": {},
   "source": [
    "#### Making 2 Versions of X:"
   ]
  },
  {
   "cell_type": "markdown",
   "metadata": {},
   "source": [
    "X_3 -- Removes columns with significant nulls     \n",
    "X_2 -- Removes all rows with null values"
   ]
  },
  {
   "cell_type": "code",
   "execution_count": 31,
   "metadata": {},
   "outputs": [],
   "source": [
    "#X_3 will have more rows to train the model but we'll only take the predictions of the ones we still need\n",
    "X_3 = X.drop(['vote_count', \n",
    "              'vote_average', \n",
    "              'runtime', \n",
    "              'revenue', \n",
    "              'popularity', \n",
    "              'budget', \n",
    "              'adult'],\n",
    "               axis=1)\n",
    "X_2 = X.dropna()"
   ]
  },
  {
   "cell_type": "code",
   "execution_count": 32,
   "metadata": {},
   "outputs": [
    {
     "name": "stdout",
     "output_type": "stream",
     "text": [
      "<class 'pandas.core.frame.DataFrame'>\n",
      "Int64Index: 48000 entries, 0 to 95491\n",
      "Data columns (total 32 columns):\n",
      "min_age              48000 non-null int64\n",
      "gender               48000 non-null int64\n",
      "vote_count           48000 non-null float64\n",
      "vote_average         48000 non-null float64\n",
      "runtime              48000 non-null float64\n",
      "revenue              48000 non-null float64\n",
      "release_date         48000 non-null int64\n",
      "popularity           48000 non-null float64\n",
      "budget               48000 non-null float64\n",
      "adult                48000 non-null bool\n",
      "user_id              48000 non-null int64\n",
      "movie_id             48000 non-null int64\n",
      "academic_educator    48000 non-null float64\n",
      "artist               48000 non-null float64\n",
      "clerical_admin       48000 non-null float64\n",
      "coll_grad_student    48000 non-null float64\n",
      "cust_service         48000 non-null float64\n",
      "doctor               48000 non-null float64\n",
      "exec                 48000 non-null float64\n",
      "farmer               48000 non-null float64\n",
      "homemaker            48000 non-null float64\n",
      "young_student        48000 non-null float64\n",
      "lawyer               48000 non-null float64\n",
      "programmer           48000 non-null float64\n",
      "retired              48000 non-null float64\n",
      "sales_mkting         48000 non-null float64\n",
      "scientist            48000 non-null float64\n",
      "self_employed        48000 non-null float64\n",
      "tech_eng             48000 non-null float64\n",
      "tradesman            48000 non-null float64\n",
      "unemployed           48000 non-null float64\n",
      "writer               48000 non-null float64\n",
      "dtypes: bool(1), float64(26), int64(5)\n",
      "memory usage: 11.8 MB\n"
     ]
    }
   ],
   "source": [
    "X_2.info()"
   ]
  },
  {
   "cell_type": "code",
   "execution_count": 33,
   "metadata": {},
   "outputs": [
    {
     "name": "stdout",
     "output_type": "stream",
     "text": [
      "<class 'pandas.core.frame.DataFrame'>\n",
      "Int64Index: 95628 entries, 0 to 95627\n",
      "Data columns (total 25 columns):\n",
      "min_age              95628 non-null int64\n",
      "gender               95628 non-null int64\n",
      "release_date         95628 non-null int64\n",
      "user_id              95628 non-null int64\n",
      "movie_id             95628 non-null int64\n",
      "academic_educator    95628 non-null float64\n",
      "artist               95628 non-null float64\n",
      "clerical_admin       95628 non-null float64\n",
      "coll_grad_student    95628 non-null float64\n",
      "cust_service         95628 non-null float64\n",
      "doctor               95628 non-null float64\n",
      "exec                 95628 non-null float64\n",
      "farmer               95628 non-null float64\n",
      "homemaker            95628 non-null float64\n",
      "young_student        95628 non-null float64\n",
      "lawyer               95628 non-null float64\n",
      "programmer           95628 non-null float64\n",
      "retired              95628 non-null float64\n",
      "sales_mkting         95628 non-null float64\n",
      "scientist            95628 non-null float64\n",
      "self_employed        95628 non-null float64\n",
      "tech_eng             95628 non-null float64\n",
      "tradesman            95628 non-null float64\n",
      "unemployed           95628 non-null float64\n",
      "writer               95628 non-null float64\n",
      "dtypes: float64(20), int64(5)\n",
      "memory usage: 19.0 MB\n"
     ]
    }
   ],
   "source": [
    "X_3.info()"
   ]
  },
  {
   "cell_type": "code",
   "execution_count": 34,
   "metadata": {},
   "outputs": [
    {
     "name": "stdout",
     "output_type": "stream",
     "text": [
      "There are 47628 predictions for our third model to make.\n"
     ]
    }
   ],
   "source": [
    "print(f'There are {95628-48000} predictions for our third model to make.')"
   ]
  },
  {
   "cell_type": "markdown",
   "metadata": {},
   "source": [
    "# Training Data:"
   ]
  },
  {
   "cell_type": "code",
   "execution_count": 35,
   "metadata": {},
   "outputs": [
    {
     "name": "stdout",
     "output_type": "stream",
     "text": [
      "<class 'pandas.core.frame.DataFrame'>\n",
      "Int64Index: 719949 entries, 0 to 719948\n",
      "Data columns (total 32 columns):\n",
      "movie_id                 719949 non-null int64\n",
      "rating                   719949 non-null int64\n",
      "timestamp                719949 non-null float64\n",
      "user_id                  719949 non-null int64\n",
      "adult                    361823 non-null object\n",
      "belongs_to_collection    88134 non-null object\n",
      "budget                   361823 non-null object\n",
      "genres                   361823 non-null object\n",
      "homepage                 90115 non-null object\n",
      "id                       361823 non-null float64\n",
      "imdb_id                  361823 non-null object\n",
      "original_language        361823 non-null object\n",
      "original_title           361823 non-null object\n",
      "overview                 360854 non-null object\n",
      "popularity               361823 non-null object\n",
      "poster_path              361823 non-null object\n",
      "production_companies     361823 non-null object\n",
      "production_countries     361823 non-null object\n",
      "release_date             361823 non-null object\n",
      "revenue                  361823 non-null float64\n",
      "runtime                  361823 non-null float64\n",
      "spoken_languages         361823 non-null object\n",
      "status                   361823 non-null object\n",
      "tagline                  261101 non-null object\n",
      "title                    361823 non-null object\n",
      "video                    361823 non-null object\n",
      "vote_average             361823 non-null float64\n",
      "vote_count               361823 non-null float64\n",
      "gender                   719949 non-null object\n",
      "min_age                  719949 non-null int64\n",
      "occupation               719949 non-null int64\n",
      "zipcode                  719949 non-null object\n",
      "dtypes: float64(6), int64(5), object(21)\n",
      "memory usage: 181.3+ MB\n"
     ]
    }
   ],
   "source": [
    "all_training_data_df.info()"
   ]
  },
  {
   "cell_type": "code",
   "execution_count": 36,
   "metadata": {},
   "outputs": [],
   "source": [
    "X_train = all_training_data_df.filter(['occupation',\n",
    "                                       'min_age',\n",
    "                                       'gender',\n",
    "                                       'vote_count', \n",
    "                                       'vote_average', \n",
    "                                       'runtime', \n",
    "                                       'revenue', \n",
    "                                       'release_date', \n",
    "                                       'popularity', \n",
    "                                       'budget', \n",
    "                                       'adult', \n",
    "                                       'user_id', \n",
    "                                       'movie_id', \n",
    "                                       'rating'], \n",
    "                                        axis=1)"
   ]
  },
  {
   "cell_type": "markdown",
   "metadata": {},
   "source": [
    "#### Data Cleaning"
   ]
  },
  {
   "cell_type": "code",
   "execution_count": 37,
   "metadata": {},
   "outputs": [],
   "source": [
    "# Converting Gender to a 1 (F) or 0 (M)\n",
    "X_train['gender'] = X_train['gender'].replace(gender_dict)"
   ]
  },
  {
   "cell_type": "code",
   "execution_count": 38,
   "metadata": {},
   "outputs": [],
   "source": [
    "# Converting adult to a boolean.\n",
    "X_train['adult'] = X_train['adult'].replace(adult_dict)\n",
    "X_train['adult'] = X_train['adult'].astype(bool)"
   ]
  },
  {
   "cell_type": "code",
   "execution_count": 39,
   "metadata": {},
   "outputs": [],
   "source": [
    "# Converting budget to a float.\n",
    "X_train['budget'] = X_train['budget'].astype(float)"
   ]
  },
  {
   "cell_type": "code",
   "execution_count": 40,
   "metadata": {},
   "outputs": [],
   "source": [
    "# Converting release date to an integer.\n",
    "X_train['release_date'] = pd.DatetimeIndex(X_train['release_date']).astype(np.int64)"
   ]
  },
  {
   "cell_type": "code",
   "execution_count": 41,
   "metadata": {},
   "outputs": [],
   "source": [
    "# Converting popularity to a float.\n",
    "X_train['popularity'] = X_train['popularity'].astype(float)"
   ]
  },
  {
   "cell_type": "markdown",
   "metadata": {},
   "source": [
    "#### One Hot Encoding Occupation Column"
   ]
  },
  {
   "cell_type": "code",
   "execution_count": 42,
   "metadata": {},
   "outputs": [
    {
     "name": "stderr",
     "output_type": "stream",
     "text": [
      "/Users/tjjj/anaconda3/lib/python3.7/site-packages/sklearn/preprocessing/_encoders.py:371: FutureWarning: The handling of integer data will change in version 0.22. Currently, the categories are determined based on the range [0, max(values)], while in the future they will be determined based on the unique values.\n",
      "If you want the future behaviour and silence this warning, you can specify \"categories='auto'\".\n",
      "In case you used a LabelEncoder before this OneHotEncoder to convert the categories to integers, then you can now use the OneHotEncoder directly.\n",
      "  warnings.warn(msg, FutureWarning)\n"
     ]
    }
   ],
   "source": [
    "#one-hot encode occupation\n",
    "enc_cols = X_train['occupation'].values.reshape(-1, 1)\n",
    "encoder = OneHotEncoder().fit(enc_cols)\n",
    "encoder.get_feature_names(['occupation'])\n",
    "\n",
    "ohe = pd.DataFrame(encoder.transform(enc_cols).toarray(),\n",
    "                   columns=encoder.get_feature_names(['occupation']))\n",
    "\n",
    "X_train = pd.concat([X_train.drop(['occupation'], axis=1), ohe], axis=1, )"
   ]
  },
  {
   "cell_type": "code",
   "execution_count": 43,
   "metadata": {},
   "outputs": [
    {
     "name": "stdout",
     "output_type": "stream",
     "text": [
      "<class 'pandas.core.frame.DataFrame'>\n",
      "Int64Index: 719949 entries, 0 to 719948\n",
      "Data columns (total 34 columns):\n",
      "min_age            719949 non-null int64\n",
      "gender             719949 non-null int64\n",
      "vote_count         361823 non-null float64\n",
      "vote_average       361823 non-null float64\n",
      "runtime            361823 non-null float64\n",
      "revenue            361823 non-null float64\n",
      "release_date       719949 non-null int64\n",
      "popularity         361823 non-null float64\n",
      "budget             361823 non-null float64\n",
      "adult              719949 non-null bool\n",
      "user_id            719949 non-null int64\n",
      "movie_id           719949 non-null int64\n",
      "rating             719949 non-null int64\n",
      "occupation_0.0     719949 non-null float64\n",
      "occupation_1.0     719949 non-null float64\n",
      "occupation_2.0     719949 non-null float64\n",
      "occupation_3.0     719949 non-null float64\n",
      "occupation_4.0     719949 non-null float64\n",
      "occupation_5.0     719949 non-null float64\n",
      "occupation_6.0     719949 non-null float64\n",
      "occupation_7.0     719949 non-null float64\n",
      "occupation_8.0     719949 non-null float64\n",
      "occupation_9.0     719949 non-null float64\n",
      "occupation_10.0    719949 non-null float64\n",
      "occupation_11.0    719949 non-null float64\n",
      "occupation_12.0    719949 non-null float64\n",
      "occupation_13.0    719949 non-null float64\n",
      "occupation_14.0    719949 non-null float64\n",
      "occupation_15.0    719949 non-null float64\n",
      "occupation_16.0    719949 non-null float64\n",
      "occupation_17.0    719949 non-null float64\n",
      "occupation_18.0    719949 non-null float64\n",
      "occupation_19.0    719949 non-null float64\n",
      "occupation_20.0    719949 non-null float64\n",
      "dtypes: bool(1), float64(27), int64(6)\n",
      "memory usage: 187.4 MB\n"
     ]
    }
   ],
   "source": [
    "X_train.info()"
   ]
  },
  {
   "cell_type": "code",
   "execution_count": 44,
   "metadata": {},
   "outputs": [],
   "source": [
    "# Removing 'other/not specified' occupation\n",
    "X_train.drop(['occupation_0.0'], axis=1, inplace=True)"
   ]
  },
  {
   "cell_type": "code",
   "execution_count": 45,
   "metadata": {},
   "outputs": [],
   "source": [
    "# Populating occupation columns with actual names\n",
    "X_train.rename({'occupation_1.0':'academic_educator', \n",
    "                'occupation_2.0':'artist',\n",
    "                'occupation_3.0':'clerical_admin',\n",
    "                'occupation_4.0':'coll_grad_student',\n",
    "                'occupation_5.0':'cust_service',\n",
    "                'occupation_6.0':'doctor',\n",
    "                'occupation_7.0':'exec',\n",
    "                'occupation_8.0':'farmer',\n",
    "                'occupation_9.0':'homemaker',\n",
    "                'occupation_10.0':'young_student',\n",
    "                'occupation_11.0':'lawyer',\n",
    "                'occupation_12.0':'programmer',\n",
    "                'occupation_13.0':'retired',\n",
    "                'occupation_14.0':'sales_mkting',\n",
    "                'occupation_15.0':'scientist',\n",
    "                'occupation_16.0':'self_employed',\n",
    "                'occupation_17.0':'tech_eng',\n",
    "                'occupation_18.0':'tradesman',\n",
    "                'occupation_19.0':'unemployed',\n",
    "                'occupation_20.0':'writer',}, \n",
    "                 axis=1, \n",
    "                 inplace=True)"
   ]
  },
  {
   "cell_type": "code",
   "execution_count": 46,
   "metadata": {},
   "outputs": [
    {
     "data": {
      "text/plain": [
       "array([4, 5, 3, 2, 1])"
      ]
     },
     "execution_count": 46,
     "metadata": {},
     "output_type": "execute_result"
    }
   ],
   "source": [
    "X_train.rating.unique()"
   ]
  },
  {
   "cell_type": "markdown",
   "metadata": {},
   "source": [
    "#### Making 2 Versions of X:"
   ]
  },
  {
   "cell_type": "markdown",
   "metadata": {},
   "source": [
    "X_3 -- Removes columns with significant nulls     \n",
    "X_2 -- Removes all rows with null values"
   ]
  },
  {
   "cell_type": "markdown",
   "metadata": {},
   "source": [
    "#### X3:"
   ]
  },
  {
   "cell_type": "code",
   "execution_count": 47,
   "metadata": {},
   "outputs": [],
   "source": [
    "#X_3 will have more rows to train the model but we'll only take the predictions of the ones we still need\n",
    "X_3_train = X_train.drop(['vote_count', \n",
    "                          'vote_average', \n",
    "                          'runtime', \n",
    "                          'revenue', \n",
    "                          'popularity', \n",
    "                          'budget', \n",
    "                          'adult', \n",
    "                          'rating'],\n",
    "                           axis=1)"
   ]
  },
  {
   "cell_type": "code",
   "execution_count": 48,
   "metadata": {},
   "outputs": [],
   "source": [
    "y_3_train = X_train.filter(['rating'], axis=1)"
   ]
  },
  {
   "cell_type": "markdown",
   "metadata": {},
   "source": [
    "#### X2:"
   ]
  },
  {
   "cell_type": "code",
   "execution_count": 49,
   "metadata": {},
   "outputs": [],
   "source": [
    "X_2_train = X_train.dropna()\n",
    "y_2_train = X_2_train.filter(['rating'], axis=1)\n",
    "X_2_train = X_2_train.drop(['rating'], axis=1)"
   ]
  },
  {
   "cell_type": "code",
   "execution_count": 50,
   "metadata": {},
   "outputs": [
    {
     "name": "stdout",
     "output_type": "stream",
     "text": [
      "<class 'pandas.core.frame.DataFrame'>\n",
      "Int64Index: 361823 entries, 0 to 719948\n",
      "Data columns (total 32 columns):\n",
      "min_age              361823 non-null int64\n",
      "gender               361823 non-null int64\n",
      "vote_count           361823 non-null float64\n",
      "vote_average         361823 non-null float64\n",
      "runtime              361823 non-null float64\n",
      "revenue              361823 non-null float64\n",
      "release_date         361823 non-null int64\n",
      "popularity           361823 non-null float64\n",
      "budget               361823 non-null float64\n",
      "adult                361823 non-null bool\n",
      "user_id              361823 non-null int64\n",
      "movie_id             361823 non-null int64\n",
      "academic_educator    361823 non-null float64\n",
      "artist               361823 non-null float64\n",
      "clerical_admin       361823 non-null float64\n",
      "coll_grad_student    361823 non-null float64\n",
      "cust_service         361823 non-null float64\n",
      "doctor               361823 non-null float64\n",
      "exec                 361823 non-null float64\n",
      "farmer               361823 non-null float64\n",
      "homemaker            361823 non-null float64\n",
      "young_student        361823 non-null float64\n",
      "lawyer               361823 non-null float64\n",
      "programmer           361823 non-null float64\n",
      "retired              361823 non-null float64\n",
      "sales_mkting         361823 non-null float64\n",
      "scientist            361823 non-null float64\n",
      "self_employed        361823 non-null float64\n",
      "tech_eng             361823 non-null float64\n",
      "tradesman            361823 non-null float64\n",
      "unemployed           361823 non-null float64\n",
      "writer               361823 non-null float64\n",
      "dtypes: bool(1), float64(26), int64(5)\n",
      "memory usage: 88.7 MB\n"
     ]
    }
   ],
   "source": [
    "X_2_train.info()"
   ]
  },
  {
   "cell_type": "code",
   "execution_count": 51,
   "metadata": {},
   "outputs": [
    {
     "name": "stdout",
     "output_type": "stream",
     "text": [
      "<class 'pandas.core.frame.DataFrame'>\n",
      "Int64Index: 719949 entries, 0 to 719948\n",
      "Data columns (total 25 columns):\n",
      "min_age              719949 non-null int64\n",
      "gender               719949 non-null int64\n",
      "release_date         719949 non-null int64\n",
      "user_id              719949 non-null int64\n",
      "movie_id             719949 non-null int64\n",
      "academic_educator    719949 non-null float64\n",
      "artist               719949 non-null float64\n",
      "clerical_admin       719949 non-null float64\n",
      "coll_grad_student    719949 non-null float64\n",
      "cust_service         719949 non-null float64\n",
      "doctor               719949 non-null float64\n",
      "exec                 719949 non-null float64\n",
      "farmer               719949 non-null float64\n",
      "homemaker            719949 non-null float64\n",
      "young_student        719949 non-null float64\n",
      "lawyer               719949 non-null float64\n",
      "programmer           719949 non-null float64\n",
      "retired              719949 non-null float64\n",
      "sales_mkting         719949 non-null float64\n",
      "scientist            719949 non-null float64\n",
      "self_employed        719949 non-null float64\n",
      "tech_eng             719949 non-null float64\n",
      "tradesman            719949 non-null float64\n",
      "unemployed           719949 non-null float64\n",
      "writer               719949 non-null float64\n",
      "dtypes: float64(20), int64(5)\n",
      "memory usage: 142.8 MB\n"
     ]
    }
   ],
   "source": [
    "X_3_train.info()"
   ]
  },
  {
   "cell_type": "markdown",
   "metadata": {},
   "source": [
    "# Neural Network Model:"
   ]
  },
  {
   "cell_type": "code",
   "execution_count": 51,
   "metadata": {},
   "outputs": [],
   "source": [
    "# ss = StandardScaler()"
   ]
  },
  {
   "cell_type": "code",
   "execution_count": 52,
   "metadata": {},
   "outputs": [
    {
     "name": "stderr",
     "output_type": "stream",
     "text": [
      "/Users/tjjj/anaconda3/lib/python3.7/site-packages/sklearn/preprocessing/data.py:645: DataConversionWarning: Data with input dtype bool, int64, float64 were all converted to float64 by StandardScaler.\n",
      "  return self.partial_fit(X, y)\n",
      "/Users/tjjj/anaconda3/lib/python3.7/site-packages/sklearn/base.py:464: DataConversionWarning: Data with input dtype bool, int64, float64 were all converted to float64 by StandardScaler.\n",
      "  return self.fit(X, **fit_params).transform(X)\n",
      "/Users/tjjj/anaconda3/lib/python3.7/site-packages/sklearn/preprocessing/data.py:645: DataConversionWarning: Data with input dtype int64, float64 were all converted to float64 by StandardScaler.\n",
      "  return self.partial_fit(X, y)\n",
      "/Users/tjjj/anaconda3/lib/python3.7/site-packages/sklearn/base.py:464: DataConversionWarning: Data with input dtype int64, float64 were all converted to float64 by StandardScaler.\n",
      "  return self.fit(X, **fit_params).transform(X)\n"
     ]
    }
   ],
   "source": [
    "# X_2_scaled = ss.fit_transform(X_2)\n",
    "# X_3_scaled = ss.fit_transform(X_3)"
   ]
  },
  {
   "cell_type": "code",
   "execution_count": 53,
   "metadata": {},
   "outputs": [
    {
     "name": "stderr",
     "output_type": "stream",
     "text": [
      "/Users/tjjj/anaconda3/lib/python3.7/site-packages/sklearn/preprocessing/data.py:645: DataConversionWarning: Data with input dtype bool, int64, float64 were all converted to float64 by StandardScaler.\n",
      "  return self.partial_fit(X, y)\n",
      "/Users/tjjj/anaconda3/lib/python3.7/site-packages/sklearn/base.py:464: DataConversionWarning: Data with input dtype bool, int64, float64 were all converted to float64 by StandardScaler.\n",
      "  return self.fit(X, **fit_params).transform(X)\n",
      "/Users/tjjj/anaconda3/lib/python3.7/site-packages/sklearn/preprocessing/data.py:645: DataConversionWarning: Data with input dtype int64, float64 were all converted to float64 by StandardScaler.\n",
      "  return self.partial_fit(X, y)\n",
      "/Users/tjjj/anaconda3/lib/python3.7/site-packages/sklearn/base.py:464: DataConversionWarning: Data with input dtype int64, float64 were all converted to float64 by StandardScaler.\n",
      "  return self.fit(X, **fit_params).transform(X)\n"
     ]
    }
   ],
   "source": [
    "# X_2_train_scaled = ss.fit_transform(X_2_train)\n",
    "# X_3_train_scaled = ss.fit_transform(X_3_train)"
   ]
  },
  {
   "cell_type": "code",
   "execution_count": 54,
   "metadata": {},
   "outputs": [
    {
     "name": "stdout",
     "output_type": "stream",
     "text": [
      "WARNING:tensorflow:From /Users/tjjj/anaconda3/lib/python3.7/site-packages/tensorflow/python/framework/op_def_library.py:263: colocate_with (from tensorflow.python.framework.ops) is deprecated and will be removed in a future version.\n",
      "Instructions for updating:\n",
      "Colocations handled automatically by placer.\n"
     ]
    }
   ],
   "source": [
    "# # from keras.utils import to_categorical\n",
    "# model = Sequential()\n",
    "# inputs = X_2_scaled.shape[1]\n",
    "# hiddens = inputs\n",
    "# model.add(Dense(hiddens, input_dim=inputs, activation='relu'))\n",
    "# model.add(Dense())\n",
    "# adam=Adam()"
   ]
  },
  {
   "cell_type": "code",
   "execution_count": 55,
   "metadata": {},
   "outputs": [],
   "source": [
    "# y_2_train = to_categorical(y_2_train) \n",
    "\n",
    "# y_2_train\n",
    "\n",
    "# y_3_train = to_categorical(y_3_train)\n",
    "\n",
    "# y_3_train\n",
    "\n",
    "# model.compile(loss='mean_squared_error', optimizer = 'adam', metrics=['acc'])\n",
    "\n",
    "# history_y_2 = model.fit(X_2_train_scaled, y_2_train, epochs=5)"
   ]
  },
  {
   "cell_type": "code",
   "execution_count": 61,
   "metadata": {},
   "outputs": [
    {
     "data": {
      "text/plain": [
       "array([[2.5865453e+17]], dtype=float32)"
      ]
     },
     "execution_count": 61,
     "metadata": {},
     "output_type": "execute_result"
    }
   ],
   "source": [
    "# X_2_predictions = model.predict_proba(X_2_train)"
   ]
  },
  {
   "cell_type": "markdown",
   "metadata": {},
   "source": [
    "## Trying XGBoost"
   ]
  },
  {
   "cell_type": "code",
   "execution_count": 76,
   "metadata": {},
   "outputs": [
    {
     "name": "stdout",
     "output_type": "stream",
     "text": [
      "Training F1: 27.47%\n",
      "Training Accuracy: 37.28%\n"
     ]
    }
   ],
   "source": [
    "# import xgboost as xgb\n",
    "# np.random.seed(0)\n",
    "# import matplotlib.pyplot as plt\n",
    "# from sklearn.metrics import accuracy_score, f1_score\n",
    "# from sklearn.model_selection import GridSearchCV\n",
    "# %matplotlib inline\n",
    "\n",
    "# # clf = xgb.XGBClassifier(objective = \"multi:softmax\" , \n",
    "# #                         num_class = 5, n_jobs=-1, n_estimators=50)\n",
    "# # clf.fit(X_2_train, y_2_train)\n",
    "\n",
    "# # X_2_train_preds = clf.predict(X_2_train)\n",
    "# # X_2_preds = clf.predict(X_2)\n",
    "\n",
    "# # X_2_training_accuracy = accuracy_score(y_2_train, X_2_train_preds)\n",
    "# # X_2_training_f1 = f1_score(y_2_train, X_2_train_preds, average=\"weighted\")\n",
    "# # print(\"Training F1: {:.4}%\".format(X_2_training_f1*100))\n",
    "# # print(\"Training Accuracy: {:.4}%\".format(X_2_training_accuracy * 100))\n",
    "\n",
    "# clf_x_3 = xgb.XGBClassifier(objective = \"multi:softmax\" , max_depth=5, n_estimators=50, n_jobs=-1)\n",
    "# clf_x_3.fit(X_3_train, y_3_train)\n",
    "\n",
    "# X_3_train_preds = clf_x_3.predict(X_3_train)\n",
    "# X_3_preds = clf_x_3.predict(X_3)\n",
    "# X_3_training_accuracy = accuracy_score(y_3_train, X_3_train_preds)\n",
    "# X_3_training_f1 = f1_score(y_3_train, X_3_train_preds, average=\"weighted\")\n",
    "# print(\"Training F1: {:.4}%\".format(X_3_training_f1*100))\n",
    "# print(\"Training Accuracy: {:.4}%\".format(X_3_training_accuracy * 100))# "
   ]
  },
  {
   "cell_type": "markdown",
   "metadata": {},
   "source": [
    "## GridSearch XGBoost"
   ]
  },
  {
   "cell_type": "code",
   "execution_count": 68,
   "metadata": {},
   "outputs": [],
   "source": [
    "# from sklearn.model_selection import GridSearchCV\n",
    "# param_grid = {\n",
    "#     \"learning_rate\": [.1, .01] ,\n",
    "#     'max_depth': [4, 5],\n",
    "#     'min_child_weight': [1],\n",
    "#     'n_estimators': [100]\n",
    "# }\n",
    "# grid_clf_x_2 = GridSearchCV(clf, param_grid, scoring='accuracy', \n",
    "#                         cv=None, n_jobs=-1 )\n",
    "# grid_clf_x_2.fit(X_2_train, y_2_train)"
   ]
  },
  {
   "cell_type": "code",
   "execution_count": 69,
   "metadata": {},
   "outputs": [],
   "source": [
    "# best_parameters = grid_clf_x_2.best_params_\n",
    "\n",
    "# print(\"Grid Search found the following optimal parameters: \")\n",
    "# for param_name in sorted(best_parameters.keys()):\n",
    "#     print(\"%s: %r\" % (param_name, best_parameters[param_name]))\n"
   ]
  },
  {
   "cell_type": "code",
   "execution_count": 70,
   "metadata": {},
   "outputs": [],
   "source": [
    "# X_2_train_gs_preds = grid_clf_x_2.predict(X_2_train)\n",
    "# X_2_gs_preds = grid_clf_x_2.predict(X_2)"
   ]
  },
  {
   "cell_type": "code",
   "execution_count": 71,
   "metadata": {},
   "outputs": [],
   "source": [
    "# X_2_gstraining_accuracy = accuracy_score(y_2_train, X_2_train_gs_preds)\n",
    "# X_2_gstraining_f1 = f1_score(y_2_train, X_2_train_gs_preds, average=\"weighted\")\n",
    "# print(\"Training F1: {:.4}%\".format(X_2_gstraining_f1*100))\n",
    "# print(\"Training Accuracy: {:.4}%\".format(X_2_gstraining_accuracy * 100))"
   ]
  },
  {
   "cell_type": "code",
   "execution_count": 52,
   "metadata": {},
   "outputs": [],
   "source": [
    "# from sklearn.model_selection import GridSearchCV\n",
    "# param_grid_3 = {\n",
    "#     \"learning_rate\": [.1, .01] ,\n",
    "#     'max_depth': [4, 5],\n",
    "#     'min_child_weight': [1],\n",
    "#     'n_estimators': [100]\n",
    "# }\n",
    "# grid_clf_x_3 = GridSearchCV(clf_x_3, param_grid_3, scoring='accuracy', \n",
    "#                         cv=None, n_jobs=-1 )\n",
    "# grid_clf_x_3.fit(X_3_train, y_3_train)\n",
    "# best_parameters = grid_clf_x_3.best_params_\n",
    "\n",
    "# print(\"Grid Search found the following optimal parameters: \")\n",
    "# for param_name in sorted(best_parameters.keys()):\n",
    "#     print(\"%s: %r\" % (param_name, best_parameters[param_name]))\n",
    "# X_3_train_gs_preds = grid_clf_x_3.predict(X_3_train)\n",
    "# X_3_gs_preds = grid_clf_x_3.predict(X_3)\n",
    "# X_3_gstraining_accuracy = accuracy_score(y_3_train, X_3_train_gs_preds)\n",
    "# X_3_gstraining_f1 = f1_score(y_3_train, X_3_train_gs_preds, average=\"weighted\")\n",
    "# print(\"Training F1: {:.4}%\".format(X_3_gstraining_f1*100))\n",
    "# print(\"Training Accuracy: {:.4}%\".format(X_3_gstraining_accuracy * 100))"
   ]
  },
  {
   "cell_type": "code",
   "execution_count": 53,
   "metadata": {},
   "outputs": [],
   "source": [
    "from sklearn.ensemble import RandomForestClassifier "
   ]
  },
  {
   "cell_type": "code",
   "execution_count": 54,
   "metadata": {},
   "outputs": [],
   "source": [
    "rfc = RandomForestClassifier(n_estimators=10, n_jobs=-1)"
   ]
  },
  {
   "cell_type": "code",
   "execution_count": 56,
   "metadata": {},
   "outputs": [
    {
     "name": "stderr",
     "output_type": "stream",
     "text": [
      "/Users/tjjj/anaconda3/lib/python3.7/site-packages/ipykernel_launcher.py:1: DataConversionWarning: A column-vector y was passed when a 1d array was expected. Please change the shape of y to (n_samples,), for example using ravel().\n",
      "  \"\"\"Entry point for launching an IPython kernel.\n"
     ]
    },
    {
     "data": {
      "text/plain": [
       "RandomForestClassifier(bootstrap=True, class_weight=None, criterion='gini',\n",
       "            max_depth=None, max_features='auto', max_leaf_nodes=None,\n",
       "            min_impurity_decrease=0.0, min_impurity_split=None,\n",
       "            min_samples_leaf=1, min_samples_split=2,\n",
       "            min_weight_fraction_leaf=0.0, n_estimators=10, n_jobs=-1,\n",
       "            oob_score=False, random_state=None, verbose=0,\n",
       "            warm_start=False)"
      ]
     },
     "execution_count": 56,
     "metadata": {},
     "output_type": "execute_result"
    }
   ],
   "source": [
    "rfc.fit(X_2_train, y_2_train)"
   ]
  },
  {
   "cell_type": "code",
   "execution_count": 57,
   "metadata": {},
   "outputs": [
    {
     "name": "stderr",
     "output_type": "stream",
     "text": [
      "/Users/tjjj/anaconda3/lib/python3.7/site-packages/ipykernel_launcher.py:2: DataConversionWarning: A column-vector y was passed when a 1d array was expected. Please change the shape of y to (n_samples,), for example using ravel().\n",
      "  \n"
     ]
    },
    {
     "data": {
      "text/plain": [
       "RandomForestClassifier(bootstrap=True, class_weight=None, criterion='gini',\n",
       "            max_depth=None, max_features='auto', max_leaf_nodes=None,\n",
       "            min_impurity_decrease=0.0, min_impurity_split=None,\n",
       "            min_samples_leaf=1, min_samples_split=2,\n",
       "            min_weight_fraction_leaf=0.0, n_estimators=10, n_jobs=-1,\n",
       "            oob_score=False, random_state=None, verbose=0,\n",
       "            warm_start=False)"
      ]
     },
     "execution_count": 57,
     "metadata": {},
     "output_type": "execute_result"
    }
   ],
   "source": [
    "rfc3 = RandomForestClassifier(n_estimators=10, n_jobs=-1)\n",
    "rfc3.fit(X_3_train, y_3_train)"
   ]
  },
  {
   "cell_type": "code",
   "execution_count": 60,
   "metadata": {},
   "outputs": [],
   "source": [
    "preds_X_2 = rfc.predict_proba(X_2_train)"
   ]
  },
  {
   "cell_type": "code",
   "execution_count": 61,
   "metadata": {},
   "outputs": [],
   "source": [
    "preds_X_3 = rfc3.predict_proba(X_3_train)"
   ]
  },
  {
   "cell_type": "code",
   "execution_count": 68,
   "metadata": {},
   "outputs": [],
   "source": [
    "requests_df = request_preds.toPandas()"
   ]
  },
  {
   "cell_type": "code",
   "execution_count": 69,
   "metadata": {},
   "outputs": [
    {
     "name": "stdout",
     "output_type": "stream",
     "text": [
      "movie_id            148.0\n",
      "rating                NaN\n",
      "timestamp     977959026.0\n",
      "user_id              53.0\n",
      "prediction            NaN\n",
      "Name: 0, dtype: float64\n"
     ]
    }
   ],
   "source": [
    "for i, row in requests_df[requests_df['prediction'].isna()].iterrows():\n",
    "    print (row)\n",
    "    break"
   ]
  },
  {
   "cell_type": "code",
   "execution_count": 72,
   "metadata": {},
   "outputs": [
    {
     "ename": "KeyboardInterrupt",
     "evalue": "",
     "output_type": "error",
     "traceback": [
      "\u001b[0;31m---------------------------------------------------------------------------\u001b[0m",
      "\u001b[0;31mKeyboardInterrupt\u001b[0m                         Traceback (most recent call last)",
      "\u001b[0;32m<ipython-input-72-20cb1810adf9>\u001b[0m in \u001b[0;36m<module>\u001b[0;34m\u001b[0m\n\u001b[1;32m      2\u001b[0m     \u001b[0;32mif\u001b[0m \u001b[0mstr\u001b[0m\u001b[0;34m(\u001b[0m\u001b[0mrow\u001b[0m\u001b[0;34m[\u001b[0m\u001b[0;34m'prediction'\u001b[0m\u001b[0;34m]\u001b[0m\u001b[0;34m)\u001b[0m \u001b[0;34m==\u001b[0m \u001b[0;34m'nan'\u001b[0m\u001b[0;34m:\u001b[0m\u001b[0;34m\u001b[0m\u001b[0;34m\u001b[0m\u001b[0m\n\u001b[1;32m      3\u001b[0m         \u001b[0;32mif\u001b[0m \u001b[0mrow\u001b[0m\u001b[0;34m[\u001b[0m\u001b[0;34m'user_id'\u001b[0m\u001b[0;34m]\u001b[0m \u001b[0;32min\u001b[0m \u001b[0mX_2\u001b[0m\u001b[0;34m[\u001b[0m\u001b[0;34m'user_id'\u001b[0m\u001b[0;34m]\u001b[0m\u001b[0;34m:\u001b[0m\u001b[0;34m\u001b[0m\u001b[0;34m\u001b[0m\u001b[0m\n\u001b[0;32m----> 4\u001b[0;31m             \u001b[0mrequests_df\u001b[0m\u001b[0;34m.\u001b[0m\u001b[0mloc\u001b[0m\u001b[0;34m[\u001b[0m\u001b[0mi\u001b[0m\u001b[0;34m,\u001b[0m \u001b[0;34m'prediction'\u001b[0m\u001b[0;34m]\u001b[0m \u001b[0;34m=\u001b[0m \u001b[0mrfc\u001b[0m\u001b[0;34m.\u001b[0m\u001b[0mpredict\u001b[0m\u001b[0;34m(\u001b[0m\u001b[0mpd\u001b[0m\u001b[0;34m.\u001b[0m\u001b[0mDataFrame\u001b[0m\u001b[0;34m(\u001b[0m\u001b[0mX_2\u001b[0m\u001b[0;34m.\u001b[0m\u001b[0mloc\u001b[0m\u001b[0;34m[\u001b[0m\u001b[0mrow\u001b[0m\u001b[0;34m[\u001b[0m\u001b[0;34m'user_id'\u001b[0m\u001b[0;34m]\u001b[0m\u001b[0;34m,\u001b[0m\u001b[0;34m:\u001b[0m\u001b[0;34m]\u001b[0m\u001b[0;34m)\u001b[0m\u001b[0;34m.\u001b[0m\u001b[0mT\u001b[0m\u001b[0;34m)\u001b[0m\u001b[0;34m\u001b[0m\u001b[0;34m\u001b[0m\u001b[0m\n\u001b[0m",
      "\u001b[0;32m~/anaconda3/lib/python3.7/site-packages/sklearn/ensemble/forest.py\u001b[0m in \u001b[0;36mpredict\u001b[0;34m(self, X)\u001b[0m\n\u001b[1;32m    541\u001b[0m             \u001b[0mThe\u001b[0m \u001b[0mpredicted\u001b[0m \u001b[0mclasses\u001b[0m\u001b[0;34m.\u001b[0m\u001b[0;34m\u001b[0m\u001b[0;34m\u001b[0m\u001b[0m\n\u001b[1;32m    542\u001b[0m         \"\"\"\n\u001b[0;32m--> 543\u001b[0;31m         \u001b[0mproba\u001b[0m \u001b[0;34m=\u001b[0m \u001b[0mself\u001b[0m\u001b[0;34m.\u001b[0m\u001b[0mpredict_proba\u001b[0m\u001b[0;34m(\u001b[0m\u001b[0mX\u001b[0m\u001b[0;34m)\u001b[0m\u001b[0;34m\u001b[0m\u001b[0;34m\u001b[0m\u001b[0m\n\u001b[0m\u001b[1;32m    544\u001b[0m \u001b[0;34m\u001b[0m\u001b[0m\n\u001b[1;32m    545\u001b[0m         \u001b[0;32mif\u001b[0m \u001b[0mself\u001b[0m\u001b[0;34m.\u001b[0m\u001b[0mn_outputs_\u001b[0m \u001b[0;34m==\u001b[0m \u001b[0;36m1\u001b[0m\u001b[0;34m:\u001b[0m\u001b[0;34m\u001b[0m\u001b[0;34m\u001b[0m\u001b[0m\n",
      "\u001b[0;32m~/anaconda3/lib/python3.7/site-packages/sklearn/ensemble/forest.py\u001b[0m in \u001b[0;36mpredict_proba\u001b[0;34m(self, X)\u001b[0m\n\u001b[1;32m    594\u001b[0m             delayed(_accumulate_prediction)(e.predict_proba, X, all_proba,\n\u001b[1;32m    595\u001b[0m                                             lock)\n\u001b[0;32m--> 596\u001b[0;31m             for e in self.estimators_)\n\u001b[0m\u001b[1;32m    597\u001b[0m \u001b[0;34m\u001b[0m\u001b[0m\n\u001b[1;32m    598\u001b[0m         \u001b[0;32mfor\u001b[0m \u001b[0mproba\u001b[0m \u001b[0;32min\u001b[0m \u001b[0mall_proba\u001b[0m\u001b[0;34m:\u001b[0m\u001b[0;34m\u001b[0m\u001b[0;34m\u001b[0m\u001b[0m\n",
      "\u001b[0;32m~/anaconda3/lib/python3.7/site-packages/sklearn/externals/joblib/parallel.py\u001b[0m in \u001b[0;36m__call__\u001b[0;34m(self, iterable)\u001b[0m\n\u001b[1;32m    938\u001b[0m                 \u001b[0mself\u001b[0m\u001b[0;34m.\u001b[0m\u001b[0m_backend\u001b[0m\u001b[0;34m.\u001b[0m\u001b[0mstop_call\u001b[0m\u001b[0;34m(\u001b[0m\u001b[0;34m)\u001b[0m\u001b[0;34m\u001b[0m\u001b[0;34m\u001b[0m\u001b[0m\n\u001b[1;32m    939\u001b[0m             \u001b[0;32mif\u001b[0m \u001b[0;32mnot\u001b[0m \u001b[0mself\u001b[0m\u001b[0;34m.\u001b[0m\u001b[0m_managed_backend\u001b[0m\u001b[0;34m:\u001b[0m\u001b[0;34m\u001b[0m\u001b[0;34m\u001b[0m\u001b[0m\n\u001b[0;32m--> 940\u001b[0;31m                 \u001b[0mself\u001b[0m\u001b[0;34m.\u001b[0m\u001b[0m_terminate_backend\u001b[0m\u001b[0;34m(\u001b[0m\u001b[0;34m)\u001b[0m\u001b[0;34m\u001b[0m\u001b[0;34m\u001b[0m\u001b[0m\n\u001b[0m\u001b[1;32m    941\u001b[0m             \u001b[0mself\u001b[0m\u001b[0;34m.\u001b[0m\u001b[0m_jobs\u001b[0m \u001b[0;34m=\u001b[0m \u001b[0mlist\u001b[0m\u001b[0;34m(\u001b[0m\u001b[0;34m)\u001b[0m\u001b[0;34m\u001b[0m\u001b[0;34m\u001b[0m\u001b[0m\n\u001b[1;32m    942\u001b[0m             \u001b[0mself\u001b[0m\u001b[0;34m.\u001b[0m\u001b[0m_pickle_cache\u001b[0m \u001b[0;34m=\u001b[0m \u001b[0;32mNone\u001b[0m\u001b[0;34m\u001b[0m\u001b[0;34m\u001b[0m\u001b[0m\n",
      "\u001b[0;32m~/anaconda3/lib/python3.7/site-packages/sklearn/externals/joblib/parallel.py\u001b[0m in \u001b[0;36m_terminate_backend\u001b[0;34m(self)\u001b[0m\n\u001b[1;32m    694\u001b[0m     \u001b[0;32mdef\u001b[0m \u001b[0m_terminate_backend\u001b[0m\u001b[0;34m(\u001b[0m\u001b[0mself\u001b[0m\u001b[0;34m)\u001b[0m\u001b[0;34m:\u001b[0m\u001b[0;34m\u001b[0m\u001b[0;34m\u001b[0m\u001b[0m\n\u001b[1;32m    695\u001b[0m         \u001b[0;32mif\u001b[0m \u001b[0mself\u001b[0m\u001b[0;34m.\u001b[0m\u001b[0m_backend\u001b[0m \u001b[0;32mis\u001b[0m \u001b[0;32mnot\u001b[0m \u001b[0;32mNone\u001b[0m\u001b[0;34m:\u001b[0m\u001b[0;34m\u001b[0m\u001b[0;34m\u001b[0m\u001b[0m\n\u001b[0;32m--> 696\u001b[0;31m             \u001b[0mself\u001b[0m\u001b[0;34m.\u001b[0m\u001b[0m_backend\u001b[0m\u001b[0;34m.\u001b[0m\u001b[0mterminate\u001b[0m\u001b[0;34m(\u001b[0m\u001b[0;34m)\u001b[0m\u001b[0;34m\u001b[0m\u001b[0;34m\u001b[0m\u001b[0m\n\u001b[0m\u001b[1;32m    697\u001b[0m \u001b[0;34m\u001b[0m\u001b[0m\n\u001b[1;32m    698\u001b[0m     \u001b[0;32mdef\u001b[0m \u001b[0m_dispatch\u001b[0m\u001b[0;34m(\u001b[0m\u001b[0mself\u001b[0m\u001b[0;34m,\u001b[0m \u001b[0mbatch\u001b[0m\u001b[0;34m)\u001b[0m\u001b[0;34m:\u001b[0m\u001b[0;34m\u001b[0m\u001b[0;34m\u001b[0m\u001b[0m\n",
      "\u001b[0;32m~/anaconda3/lib/python3.7/site-packages/sklearn/externals/joblib/_parallel_backends.py\u001b[0m in \u001b[0;36mterminate\u001b[0;34m(self)\u001b[0m\n\u001b[1;32m    215\u001b[0m         \u001b[0;32mif\u001b[0m \u001b[0mself\u001b[0m\u001b[0;34m.\u001b[0m\u001b[0m_pool\u001b[0m \u001b[0;32mis\u001b[0m \u001b[0;32mnot\u001b[0m \u001b[0;32mNone\u001b[0m\u001b[0;34m:\u001b[0m\u001b[0;34m\u001b[0m\u001b[0;34m\u001b[0m\u001b[0m\n\u001b[1;32m    216\u001b[0m             \u001b[0mself\u001b[0m\u001b[0;34m.\u001b[0m\u001b[0m_pool\u001b[0m\u001b[0;34m.\u001b[0m\u001b[0mclose\u001b[0m\u001b[0;34m(\u001b[0m\u001b[0;34m)\u001b[0m\u001b[0;34m\u001b[0m\u001b[0;34m\u001b[0m\u001b[0m\n\u001b[0;32m--> 217\u001b[0;31m             \u001b[0mself\u001b[0m\u001b[0;34m.\u001b[0m\u001b[0m_pool\u001b[0m\u001b[0;34m.\u001b[0m\u001b[0mterminate\u001b[0m\u001b[0;34m(\u001b[0m\u001b[0;34m)\u001b[0m  \u001b[0;31m# terminate does a join()\u001b[0m\u001b[0;34m\u001b[0m\u001b[0;34m\u001b[0m\u001b[0m\n\u001b[0m\u001b[1;32m    218\u001b[0m             \u001b[0mself\u001b[0m\u001b[0;34m.\u001b[0m\u001b[0m_pool\u001b[0m \u001b[0;34m=\u001b[0m \u001b[0;32mNone\u001b[0m\u001b[0;34m\u001b[0m\u001b[0;34m\u001b[0m\u001b[0m\n\u001b[1;32m    219\u001b[0m \u001b[0;34m\u001b[0m\u001b[0m\n",
      "\u001b[0;32m~/anaconda3/lib/python3.7/multiprocessing/pool.py\u001b[0m in \u001b[0;36mterminate\u001b[0;34m(self)\u001b[0m\n\u001b[1;32m    546\u001b[0m         \u001b[0mself\u001b[0m\u001b[0;34m.\u001b[0m\u001b[0m_state\u001b[0m \u001b[0;34m=\u001b[0m \u001b[0mTERMINATE\u001b[0m\u001b[0;34m\u001b[0m\u001b[0;34m\u001b[0m\u001b[0m\n\u001b[1;32m    547\u001b[0m         \u001b[0mself\u001b[0m\u001b[0;34m.\u001b[0m\u001b[0m_worker_handler\u001b[0m\u001b[0;34m.\u001b[0m\u001b[0m_state\u001b[0m \u001b[0;34m=\u001b[0m \u001b[0mTERMINATE\u001b[0m\u001b[0;34m\u001b[0m\u001b[0;34m\u001b[0m\u001b[0m\n\u001b[0;32m--> 548\u001b[0;31m         \u001b[0mself\u001b[0m\u001b[0;34m.\u001b[0m\u001b[0m_terminate\u001b[0m\u001b[0;34m(\u001b[0m\u001b[0;34m)\u001b[0m\u001b[0;34m\u001b[0m\u001b[0;34m\u001b[0m\u001b[0m\n\u001b[0m\u001b[1;32m    549\u001b[0m \u001b[0;34m\u001b[0m\u001b[0m\n\u001b[1;32m    550\u001b[0m     \u001b[0;32mdef\u001b[0m \u001b[0mjoin\u001b[0m\u001b[0;34m(\u001b[0m\u001b[0mself\u001b[0m\u001b[0;34m)\u001b[0m\u001b[0;34m:\u001b[0m\u001b[0;34m\u001b[0m\u001b[0;34m\u001b[0m\u001b[0m\n",
      "\u001b[0;32m~/anaconda3/lib/python3.7/multiprocessing/util.py\u001b[0m in \u001b[0;36m__call__\u001b[0;34m(self, wr, _finalizer_registry, sub_debug, getpid)\u001b[0m\n\u001b[1;32m    187\u001b[0m                 sub_debug('finalizer calling %s with args %s and kwargs %s',\n\u001b[1;32m    188\u001b[0m                           self._callback, self._args, self._kwargs)\n\u001b[0;32m--> 189\u001b[0;31m                 \u001b[0mres\u001b[0m \u001b[0;34m=\u001b[0m \u001b[0mself\u001b[0m\u001b[0;34m.\u001b[0m\u001b[0m_callback\u001b[0m\u001b[0;34m(\u001b[0m\u001b[0;34m*\u001b[0m\u001b[0mself\u001b[0m\u001b[0;34m.\u001b[0m\u001b[0m_args\u001b[0m\u001b[0;34m,\u001b[0m \u001b[0;34m**\u001b[0m\u001b[0mself\u001b[0m\u001b[0;34m.\u001b[0m\u001b[0m_kwargs\u001b[0m\u001b[0;34m)\u001b[0m\u001b[0;34m\u001b[0m\u001b[0;34m\u001b[0m\u001b[0m\n\u001b[0m\u001b[1;32m    190\u001b[0m             \u001b[0mself\u001b[0m\u001b[0;34m.\u001b[0m\u001b[0m_weakref\u001b[0m \u001b[0;34m=\u001b[0m \u001b[0mself\u001b[0m\u001b[0;34m.\u001b[0m\u001b[0m_callback\u001b[0m \u001b[0;34m=\u001b[0m \u001b[0mself\u001b[0m\u001b[0;34m.\u001b[0m\u001b[0m_args\u001b[0m \u001b[0;34m=\u001b[0m\u001b[0;31m \u001b[0m\u001b[0;31m\\\u001b[0m\u001b[0;34m\u001b[0m\u001b[0;34m\u001b[0m\u001b[0m\n\u001b[1;32m    191\u001b[0m                             \u001b[0mself\u001b[0m\u001b[0;34m.\u001b[0m\u001b[0m_kwargs\u001b[0m \u001b[0;34m=\u001b[0m \u001b[0mself\u001b[0m\u001b[0;34m.\u001b[0m\u001b[0m_key\u001b[0m \u001b[0;34m=\u001b[0m \u001b[0;32mNone\u001b[0m\u001b[0;34m\u001b[0m\u001b[0;34m\u001b[0m\u001b[0m\n",
      "\u001b[0;32m~/anaconda3/lib/python3.7/multiprocessing/pool.py\u001b[0m in \u001b[0;36m_terminate_pool\u001b[0;34m(cls, taskqueue, inqueue, outqueue, pool, worker_handler, task_handler, result_handler, cache)\u001b[0m\n\u001b[1;32m    592\u001b[0m         \u001b[0mutil\u001b[0m\u001b[0;34m.\u001b[0m\u001b[0mdebug\u001b[0m\u001b[0;34m(\u001b[0m\u001b[0;34m'joining worker handler'\u001b[0m\u001b[0;34m)\u001b[0m\u001b[0;34m\u001b[0m\u001b[0;34m\u001b[0m\u001b[0m\n\u001b[1;32m    593\u001b[0m         \u001b[0;32mif\u001b[0m \u001b[0mthreading\u001b[0m\u001b[0;34m.\u001b[0m\u001b[0mcurrent_thread\u001b[0m\u001b[0;34m(\u001b[0m\u001b[0;34m)\u001b[0m \u001b[0;32mis\u001b[0m \u001b[0;32mnot\u001b[0m \u001b[0mworker_handler\u001b[0m\u001b[0;34m:\u001b[0m\u001b[0;34m\u001b[0m\u001b[0;34m\u001b[0m\u001b[0m\n\u001b[0;32m--> 594\u001b[0;31m             \u001b[0mworker_handler\u001b[0m\u001b[0;34m.\u001b[0m\u001b[0mjoin\u001b[0m\u001b[0;34m(\u001b[0m\u001b[0;34m)\u001b[0m\u001b[0;34m\u001b[0m\u001b[0;34m\u001b[0m\u001b[0m\n\u001b[0m\u001b[1;32m    595\u001b[0m \u001b[0;34m\u001b[0m\u001b[0m\n\u001b[1;32m    596\u001b[0m         \u001b[0;31m# Terminate workers which haven't already finished.\u001b[0m\u001b[0;34m\u001b[0m\u001b[0;34m\u001b[0m\u001b[0;34m\u001b[0m\u001b[0m\n",
      "\u001b[0;32m~/anaconda3/lib/python3.7/threading.py\u001b[0m in \u001b[0;36mjoin\u001b[0;34m(self, timeout)\u001b[0m\n\u001b[1;32m   1030\u001b[0m \u001b[0;34m\u001b[0m\u001b[0m\n\u001b[1;32m   1031\u001b[0m         \u001b[0;32mif\u001b[0m \u001b[0mtimeout\u001b[0m \u001b[0;32mis\u001b[0m \u001b[0;32mNone\u001b[0m\u001b[0;34m:\u001b[0m\u001b[0;34m\u001b[0m\u001b[0;34m\u001b[0m\u001b[0m\n\u001b[0;32m-> 1032\u001b[0;31m             \u001b[0mself\u001b[0m\u001b[0;34m.\u001b[0m\u001b[0m_wait_for_tstate_lock\u001b[0m\u001b[0;34m(\u001b[0m\u001b[0;34m)\u001b[0m\u001b[0;34m\u001b[0m\u001b[0;34m\u001b[0m\u001b[0m\n\u001b[0m\u001b[1;32m   1033\u001b[0m         \u001b[0;32melse\u001b[0m\u001b[0;34m:\u001b[0m\u001b[0;34m\u001b[0m\u001b[0;34m\u001b[0m\u001b[0m\n\u001b[1;32m   1034\u001b[0m             \u001b[0;31m# the behavior of a negative timeout isn't documented, but\u001b[0m\u001b[0;34m\u001b[0m\u001b[0;34m\u001b[0m\u001b[0;34m\u001b[0m\u001b[0m\n",
      "\u001b[0;32m~/anaconda3/lib/python3.7/threading.py\u001b[0m in \u001b[0;36m_wait_for_tstate_lock\u001b[0;34m(self, block, timeout)\u001b[0m\n\u001b[1;32m   1046\u001b[0m         \u001b[0;32mif\u001b[0m \u001b[0mlock\u001b[0m \u001b[0;32mis\u001b[0m \u001b[0;32mNone\u001b[0m\u001b[0;34m:\u001b[0m  \u001b[0;31m# already determined that the C code is done\u001b[0m\u001b[0;34m\u001b[0m\u001b[0;34m\u001b[0m\u001b[0m\n\u001b[1;32m   1047\u001b[0m             \u001b[0;32massert\u001b[0m \u001b[0mself\u001b[0m\u001b[0;34m.\u001b[0m\u001b[0m_is_stopped\u001b[0m\u001b[0;34m\u001b[0m\u001b[0;34m\u001b[0m\u001b[0m\n\u001b[0;32m-> 1048\u001b[0;31m         \u001b[0;32melif\u001b[0m \u001b[0mlock\u001b[0m\u001b[0;34m.\u001b[0m\u001b[0macquire\u001b[0m\u001b[0;34m(\u001b[0m\u001b[0mblock\u001b[0m\u001b[0;34m,\u001b[0m \u001b[0mtimeout\u001b[0m\u001b[0;34m)\u001b[0m\u001b[0;34m:\u001b[0m\u001b[0;34m\u001b[0m\u001b[0;34m\u001b[0m\u001b[0m\n\u001b[0m\u001b[1;32m   1049\u001b[0m             \u001b[0mlock\u001b[0m\u001b[0;34m.\u001b[0m\u001b[0mrelease\u001b[0m\u001b[0;34m(\u001b[0m\u001b[0;34m)\u001b[0m\u001b[0;34m\u001b[0m\u001b[0;34m\u001b[0m\u001b[0m\n\u001b[1;32m   1050\u001b[0m             \u001b[0mself\u001b[0m\u001b[0;34m.\u001b[0m\u001b[0m_stop\u001b[0m\u001b[0;34m(\u001b[0m\u001b[0;34m)\u001b[0m\u001b[0;34m\u001b[0m\u001b[0;34m\u001b[0m\u001b[0m\n",
      "\u001b[0;31mKeyboardInterrupt\u001b[0m: "
     ]
    }
   ],
   "source": [
    "for i, row in requests_df.iterrows():\n",
    "    if str(row['prediction']) == 'nan':\n",
    "        if row['user_id'] in X_2['user_id']:\n",
    "            requests_df.loc[i, 'prediction'] = rfc.predict(pd.DataFrame(X_2.loc[row['user_id'],:]).T)"
   ]
  },
  {
   "cell_type": "code",
   "execution_count": null,
   "metadata": {},
   "outputs": [],
   "source": [
    "# for i, row in requests_df[requests_df['prediction'].isna()].iterrows():\n",
    "#     if row['user_id'] in X_2['user_id']:\n",
    "#         requests_df.loc[i, 'prediction'] = rfc.predict(pd.DataFrame(X_2.loc[row['user_id'],:]).T)"
   ]
  },
  {
   "cell_type": "code",
   "execution_count": null,
   "metadata": {},
   "outputs": [],
   "source": [
    "for i, row in requests_df.iterrows():\n",
    "    if str(row['prediction']) == 'nan':\n",
    "        if row['user_id'] in X_3['user_id']:\n",
    "            requests_df.loc[i, 'prediction'] = rfc3.predict(pd.DataFrame(X_3.loc[row['user_id'],:]).T)"
   ]
  },
  {
   "cell_type": "code",
   "execution_count": null,
   "metadata": {},
   "outputs": [],
   "source": [
    "request_df.to_json('final_final_json.json')"
   ]
  }
 ],
 "metadata": {
  "kernelspec": {
   "display_name": "Python 3",
   "language": "python",
   "name": "python3"
  },
  "language_info": {
   "codemirror_mode": {
    "name": "ipython",
    "version": 3
   },
   "file_extension": ".py",
   "mimetype": "text/x-python",
   "name": "python",
   "nbconvert_exporter": "python",
   "pygments_lexer": "ipython3",
   "version": "3.7.3"
  }
 },
 "nbformat": 4,
 "nbformat_minor": 2
}
