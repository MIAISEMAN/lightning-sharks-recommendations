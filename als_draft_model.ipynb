{
 "cells": [
  {
   "cell_type": "code",
   "execution_count": 1,
   "metadata": {},
   "outputs": [],
   "source": [
    "import pyspark "
   ]
  },
  {
   "cell_type": "code",
   "execution_count": 3,
   "metadata": {},
   "outputs": [],
   "source": [
    "spark  = pyspark.sql.SparkSession.builder.getOrCreate()\n",
    "sc = spark.sparkContext"
   ]
  },
  {
   "cell_type": "code",
   "execution_count": 38,
   "metadata": {},
   "outputs": [],
   "source": [
    "ratings = spark.read.json('data/ratings.json')"
   ]
  },
  {
   "cell_type": "code",
   "execution_count": 39,
   "metadata": {},
   "outputs": [
    {
     "data": {
      "text/plain": [
       "DataFrame[movie_id: bigint, rating: bigint, timestamp: double, user_id: bigint]"
      ]
     },
     "execution_count": 39,
     "metadata": {},
     "output_type": "execute_result"
    }
   ],
   "source": [
    "ratings.persist()"
   ]
  },
  {
   "cell_type": "code",
   "execution_count": 40,
   "metadata": {},
   "outputs": [
    {
     "name": "stdout",
     "output_type": "stream",
     "text": [
      "+--------+------+------------+-------+\n",
      "|movie_id|rating|   timestamp|user_id|\n",
      "+--------+------+------------+-------+\n",
      "|     858|     4|9.56678732E8|   6040|\n",
      "|    2384|     4|9.56678754E8|   6040|\n",
      "|     593|     5|9.56678754E8|   6040|\n",
      "|    1961|     4|9.56678777E8|   6040|\n",
      "|    1419|     3|9.56678856E8|   6040|\n",
      "+--------+------+------------+-------+\n",
      "only showing top 5 rows\n",
      "\n"
     ]
    }
   ],
   "source": [
    "ratings.show(5)"
   ]
  },
  {
   "cell_type": "code",
   "execution_count": 76,
   "metadata": {},
   "outputs": [
    {
     "data": {
      "text/html": [
       "<div>\n",
       "<style scoped>\n",
       "    .dataframe tbody tr th:only-of-type {\n",
       "        vertical-align: middle;\n",
       "    }\n",
       "\n",
       "    .dataframe tbody tr th {\n",
       "        vertical-align: top;\n",
       "    }\n",
       "\n",
       "    .dataframe thead th {\n",
       "        text-align: right;\n",
       "    }\n",
       "</style>\n",
       "<table border=\"1\" class=\"dataframe\">\n",
       "  <thead>\n",
       "    <tr style=\"text-align: right;\">\n",
       "      <th></th>\n",
       "      <th>0</th>\n",
       "      <th>1</th>\n",
       "      <th>2</th>\n",
       "    </tr>\n",
       "  </thead>\n",
       "  <tbody>\n",
       "    <tr>\n",
       "      <th>0</th>\n",
       "      <td>1</td>\n",
       "      <td>Toy Story (1995)</td>\n",
       "      <td>Animation|Children's|Comedy</td>\n",
       "    </tr>\n",
       "    <tr>\n",
       "      <th>1</th>\n",
       "      <td>2</td>\n",
       "      <td>Jumanji (1995)</td>\n",
       "      <td>Adventure|Children's|Fantasy</td>\n",
       "    </tr>\n",
       "    <tr>\n",
       "      <th>2</th>\n",
       "      <td>3</td>\n",
       "      <td>Grumpier Old Men (1995)</td>\n",
       "      <td>Comedy|Romance</td>\n",
       "    </tr>\n",
       "    <tr>\n",
       "      <th>3</th>\n",
       "      <td>4</td>\n",
       "      <td>Waiting to Exhale (1995)</td>\n",
       "      <td>Comedy|Drama</td>\n",
       "    </tr>\n",
       "    <tr>\n",
       "      <th>4</th>\n",
       "      <td>5</td>\n",
       "      <td>Father of the Bride Part II (1995)</td>\n",
       "      <td>Comedy</td>\n",
       "    </tr>\n",
       "  </tbody>\n",
       "</table>\n",
       "</div>"
      ],
      "text/plain": [
       "   0                                   1                             2\n",
       "0  1                    Toy Story (1995)   Animation|Children's|Comedy\n",
       "1  2                      Jumanji (1995)  Adventure|Children's|Fantasy\n",
       "2  3             Grumpier Old Men (1995)                Comedy|Romance\n",
       "3  4            Waiting to Exhale (1995)                  Comedy|Drama\n",
       "4  5  Father of the Bride Part II (1995)                        Comedy"
      ]
     },
     "execution_count": 76,
     "metadata": {},
     "output_type": "execute_result"
    }
   ],
   "source": [
    "import pandas as pd \n",
    "movies = pd.read_csv('data/movies.dat', sep='::', engine='python', header=None)\n",
    "movies.head()"
   ]
  },
  {
   "cell_type": "code",
   "execution_count": 98,
   "metadata": {},
   "outputs": [
    {
     "data": {
      "text/html": [
       "<div>\n",
       "<style scoped>\n",
       "    .dataframe tbody tr th:only-of-type {\n",
       "        vertical-align: middle;\n",
       "    }\n",
       "\n",
       "    .dataframe tbody tr th {\n",
       "        vertical-align: top;\n",
       "    }\n",
       "\n",
       "    .dataframe thead th {\n",
       "        text-align: right;\n",
       "    }\n",
       "</style>\n",
       "<table border=\"1\" class=\"dataframe\">\n",
       "  <thead>\n",
       "    <tr style=\"text-align: right;\">\n",
       "      <th></th>\n",
       "      <th>0</th>\n",
       "      <th>1</th>\n",
       "      <th>2</th>\n",
       "      <th>3</th>\n",
       "      <th>4</th>\n",
       "    </tr>\n",
       "  </thead>\n",
       "  <tbody>\n",
       "    <tr>\n",
       "      <th>0</th>\n",
       "      <td>1</td>\n",
       "      <td>F</td>\n",
       "      <td>1</td>\n",
       "      <td>10</td>\n",
       "      <td>48067</td>\n",
       "    </tr>\n",
       "    <tr>\n",
       "      <th>1</th>\n",
       "      <td>2</td>\n",
       "      <td>M</td>\n",
       "      <td>56</td>\n",
       "      <td>16</td>\n",
       "      <td>70072</td>\n",
       "    </tr>\n",
       "    <tr>\n",
       "      <th>2</th>\n",
       "      <td>3</td>\n",
       "      <td>M</td>\n",
       "      <td>25</td>\n",
       "      <td>15</td>\n",
       "      <td>55117</td>\n",
       "    </tr>\n",
       "    <tr>\n",
       "      <th>3</th>\n",
       "      <td>4</td>\n",
       "      <td>M</td>\n",
       "      <td>45</td>\n",
       "      <td>7</td>\n",
       "      <td>02460</td>\n",
       "    </tr>\n",
       "    <tr>\n",
       "      <th>4</th>\n",
       "      <td>5</td>\n",
       "      <td>M</td>\n",
       "      <td>25</td>\n",
       "      <td>20</td>\n",
       "      <td>55455</td>\n",
       "    </tr>\n",
       "  </tbody>\n",
       "</table>\n",
       "</div>"
      ],
      "text/plain": [
       "   0  1   2   3      4\n",
       "0  1  F   1  10  48067\n",
       "1  2  M  56  16  70072\n",
       "2  3  M  25  15  55117\n",
       "3  4  M  45   7  02460\n",
       "4  5  M  25  20  55455"
      ]
     },
     "execution_count": 98,
     "metadata": {},
     "output_type": "execute_result"
    }
   ],
   "source": [
    "users = pd.read_csv('data/users.dat', sep='::', engine='python', header=None)\n",
    "users.head()"
   ]
  },
  {
   "cell_type": "code",
   "execution_count": 104,
   "metadata": {},
   "outputs": [
    {
     "data": {
      "text/plain": [
       "25    2096\n",
       "35    1193\n",
       "18    1103\n",
       "45     550\n",
       "50     496\n",
       "56     380\n",
       "1      222\n",
       "Name: age, dtype: int64"
      ]
     },
     "execution_count": 104,
     "metadata": {},
     "output_type": "execute_result"
    }
   ],
   "source": [
    "users = users.rename({0:'user_id', \n",
    "              1:'gender', \n",
    "              2:'min_age', \n",
    "              3:'occupation', \n",
    "              4:'zipcode'}, \n",
    "             axis=1)\n",
    "users.age.value_counts()"
   ]
  },
  {
   "cell_type": "code",
   "execution_count": 41,
   "metadata": {},
   "outputs": [],
   "source": [
    "requests = spark.read.json('data/requests.json')"
   ]
  },
  {
   "cell_type": "code",
   "execution_count": 42,
   "metadata": {},
   "outputs": [
    {
     "data": {
      "text/plain": [
       "DataFrame[movie_id: bigint, rating: double, timestamp: double, user_id: bigint]"
      ]
     },
     "execution_count": 42,
     "metadata": {},
     "output_type": "execute_result"
    }
   ],
   "source": [
    "requests.persist()"
   ]
  },
  {
   "cell_type": "code",
   "execution_count": 43,
   "metadata": {},
   "outputs": [
    {
     "data": {
      "text/plain": [
       "280260"
      ]
     },
     "execution_count": 43,
     "metadata": {},
     "output_type": "execute_result"
    }
   ],
   "source": [
    "requests.count()"
   ]
  },
  {
   "cell_type": "code",
   "execution_count": 32,
   "metadata": {},
   "outputs": [
    {
     "data": {
      "text/plain": [
       "<bound method DataFrame.printSchema of DataFrame[{\"user_id\": 6040: string,  \"movie_id\": 858: string,  \"rating\": 4: string,  \"timestamp\": 956678732.0}: string]>"
      ]
     },
     "execution_count": 32,
     "metadata": {},
     "output_type": "execute_result"
    }
   ],
   "source": [
    "#import libraries for shitty model \n",
    "from pyspark.ml.evaluation import RegressionEvaluator\n",
    "from pyspark.ml.recommendation import ALS, ALSModel \n",
    "ratings.printSchema"
   ]
  },
  {
   "cell_type": "code",
   "execution_count": 44,
   "metadata": {},
   "outputs": [],
   "source": [
    "ratings_df = ratings.toPandas()"
   ]
  },
  {
   "cell_type": "code",
   "execution_count": 60,
   "metadata": {},
   "outputs": [
    {
     "data": {
      "text/html": [
       "<div>\n",
       "<style scoped>\n",
       "    .dataframe tbody tr th:only-of-type {\n",
       "        vertical-align: middle;\n",
       "    }\n",
       "\n",
       "    .dataframe tbody tr th {\n",
       "        vertical-align: top;\n",
       "    }\n",
       "\n",
       "    .dataframe thead th {\n",
       "        text-align: right;\n",
       "    }\n",
       "</style>\n",
       "<table border=\"1\" class=\"dataframe\">\n",
       "  <thead>\n",
       "    <tr style=\"text-align: right;\">\n",
       "      <th></th>\n",
       "      <th>movie_id</th>\n",
       "      <th>rating</th>\n",
       "      <th>timestamp</th>\n",
       "      <th>user_id</th>\n",
       "    </tr>\n",
       "  </thead>\n",
       "  <tbody>\n",
       "    <tr>\n",
       "      <th>719948</th>\n",
       "      <td>892</td>\n",
       "      <td>4</td>\n",
       "      <td>975739919.0</td>\n",
       "      <td>1875</td>\n",
       "    </tr>\n",
       "    <tr>\n",
       "      <th>719947</th>\n",
       "      <td>802</td>\n",
       "      <td>4</td>\n",
       "      <td>975739918.0</td>\n",
       "      <td>1875</td>\n",
       "    </tr>\n",
       "    <tr>\n",
       "      <th>719946</th>\n",
       "      <td>2303</td>\n",
       "      <td>4</td>\n",
       "      <td>975739907.0</td>\n",
       "      <td>635</td>\n",
       "    </tr>\n",
       "    <tr>\n",
       "      <th>719945</th>\n",
       "      <td>2966</td>\n",
       "      <td>4</td>\n",
       "      <td>975739907.0</td>\n",
       "      <td>635</td>\n",
       "    </tr>\n",
       "    <tr>\n",
       "      <th>719944</th>\n",
       "      <td>3198</td>\n",
       "      <td>4</td>\n",
       "      <td>975739907.0</td>\n",
       "      <td>635</td>\n",
       "    </tr>\n",
       "    <tr>\n",
       "      <th>719943</th>\n",
       "      <td>1884</td>\n",
       "      <td>4</td>\n",
       "      <td>975739907.0</td>\n",
       "      <td>635</td>\n",
       "    </tr>\n",
       "    <tr>\n",
       "      <th>719942</th>\n",
       "      <td>838</td>\n",
       "      <td>4</td>\n",
       "      <td>975739906.0</td>\n",
       "      <td>1875</td>\n",
       "    </tr>\n",
       "    <tr>\n",
       "      <th>719941</th>\n",
       "      <td>3479</td>\n",
       "      <td>4</td>\n",
       "      <td>975739906.0</td>\n",
       "      <td>1875</td>\n",
       "    </tr>\n",
       "    <tr>\n",
       "      <th>719939</th>\n",
       "      <td>2108</td>\n",
       "      <td>4</td>\n",
       "      <td>975739892.0</td>\n",
       "      <td>1875</td>\n",
       "    </tr>\n",
       "    <tr>\n",
       "      <th>719940</th>\n",
       "      <td>1680</td>\n",
       "      <td>4</td>\n",
       "      <td>975739892.0</td>\n",
       "      <td>1875</td>\n",
       "    </tr>\n",
       "    <tr>\n",
       "      <th>719938</th>\n",
       "      <td>68</td>\n",
       "      <td>4</td>\n",
       "      <td>975739871.0</td>\n",
       "      <td>1875</td>\n",
       "    </tr>\n",
       "    <tr>\n",
       "      <th>719937</th>\n",
       "      <td>1203</td>\n",
       "      <td>5</td>\n",
       "      <td>975739864.0</td>\n",
       "      <td>635</td>\n",
       "    </tr>\n",
       "    <tr>\n",
       "      <th>719936</th>\n",
       "      <td>1952</td>\n",
       "      <td>4</td>\n",
       "      <td>975739864.0</td>\n",
       "      <td>635</td>\n",
       "    </tr>\n",
       "    <tr>\n",
       "      <th>719935</th>\n",
       "      <td>858</td>\n",
       "      <td>4</td>\n",
       "      <td>975739864.0</td>\n",
       "      <td>635</td>\n",
       "    </tr>\n",
       "    <tr>\n",
       "      <th>719934</th>\n",
       "      <td>2240</td>\n",
       "      <td>3</td>\n",
       "      <td>975739864.0</td>\n",
       "      <td>635</td>\n",
       "    </tr>\n",
       "    <tr>\n",
       "      <th>719931</th>\n",
       "      <td>1251</td>\n",
       "      <td>4</td>\n",
       "      <td>975739820.0</td>\n",
       "      <td>635</td>\n",
       "    </tr>\n",
       "    <tr>\n",
       "      <th>719929</th>\n",
       "      <td>1960</td>\n",
       "      <td>5</td>\n",
       "      <td>975739820.0</td>\n",
       "      <td>635</td>\n",
       "    </tr>\n",
       "    <tr>\n",
       "      <th>719930</th>\n",
       "      <td>1172</td>\n",
       "      <td>5</td>\n",
       "      <td>975739820.0</td>\n",
       "      <td>635</td>\n",
       "    </tr>\n",
       "    <tr>\n",
       "      <th>719928</th>\n",
       "      <td>296</td>\n",
       "      <td>4</td>\n",
       "      <td>975739820.0</td>\n",
       "      <td>635</td>\n",
       "    </tr>\n",
       "    <tr>\n",
       "      <th>719932</th>\n",
       "      <td>3035</td>\n",
       "      <td>5</td>\n",
       "      <td>975739820.0</td>\n",
       "      <td>635</td>\n",
       "    </tr>\n",
       "    <tr>\n",
       "      <th>719933</th>\n",
       "      <td>1207</td>\n",
       "      <td>5</td>\n",
       "      <td>975739820.0</td>\n",
       "      <td>635</td>\n",
       "    </tr>\n",
       "    <tr>\n",
       "      <th>719927</th>\n",
       "      <td>360</td>\n",
       "      <td>3</td>\n",
       "      <td>975739773.0</td>\n",
       "      <td>1875</td>\n",
       "    </tr>\n",
       "    <tr>\n",
       "      <th>719926</th>\n",
       "      <td>444</td>\n",
       "      <td>3</td>\n",
       "      <td>975739744.0</td>\n",
       "      <td>1875</td>\n",
       "    </tr>\n",
       "    <tr>\n",
       "      <th>719925</th>\n",
       "      <td>3183</td>\n",
       "      <td>4</td>\n",
       "      <td>975739720.0</td>\n",
       "      <td>635</td>\n",
       "    </tr>\n",
       "    <tr>\n",
       "      <th>719924</th>\n",
       "      <td>1217</td>\n",
       "      <td>4</td>\n",
       "      <td>975739720.0</td>\n",
       "      <td>635</td>\n",
       "    </tr>\n",
       "    <tr>\n",
       "      <th>719923</th>\n",
       "      <td>1279</td>\n",
       "      <td>5</td>\n",
       "      <td>975739720.0</td>\n",
       "      <td>635</td>\n",
       "    </tr>\n",
       "    <tr>\n",
       "      <th>719922</th>\n",
       "      <td>3067</td>\n",
       "      <td>4</td>\n",
       "      <td>975739720.0</td>\n",
       "      <td>635</td>\n",
       "    </tr>\n",
       "    <tr>\n",
       "      <th>719921</th>\n",
       "      <td>420</td>\n",
       "      <td>1</td>\n",
       "      <td>975739717.0</td>\n",
       "      <td>1875</td>\n",
       "    </tr>\n",
       "    <tr>\n",
       "      <th>719920</th>\n",
       "      <td>3599</td>\n",
       "      <td>1</td>\n",
       "      <td>975739694.0</td>\n",
       "      <td>1875</td>\n",
       "    </tr>\n",
       "    <tr>\n",
       "      <th>719919</th>\n",
       "      <td>234</td>\n",
       "      <td>3</td>\n",
       "      <td>975739683.0</td>\n",
       "      <td>1875</td>\n",
       "    </tr>\n",
       "    <tr>\n",
       "      <th>...</th>\n",
       "      <td>...</td>\n",
       "      <td>...</td>\n",
       "      <td>...</td>\n",
       "      <td>...</td>\n",
       "    </tr>\n",
       "    <tr>\n",
       "      <th>27</th>\n",
       "      <td>300</td>\n",
       "      <td>2</td>\n",
       "      <td>956679516.0</td>\n",
       "      <td>6040</td>\n",
       "    </tr>\n",
       "    <tr>\n",
       "      <th>30</th>\n",
       "      <td>150</td>\n",
       "      <td>3</td>\n",
       "      <td>956679516.0</td>\n",
       "      <td>6040</td>\n",
       "    </tr>\n",
       "    <tr>\n",
       "      <th>28</th>\n",
       "      <td>1392</td>\n",
       "      <td>5</td>\n",
       "      <td>956679516.0</td>\n",
       "      <td>6040</td>\n",
       "    </tr>\n",
       "    <tr>\n",
       "      <th>26</th>\n",
       "      <td>2692</td>\n",
       "      <td>4</td>\n",
       "      <td>956679456.0</td>\n",
       "      <td>6040</td>\n",
       "    </tr>\n",
       "    <tr>\n",
       "      <th>24</th>\n",
       "      <td>2762</td>\n",
       "      <td>4</td>\n",
       "      <td>956679384.0</td>\n",
       "      <td>6040</td>\n",
       "    </tr>\n",
       "    <tr>\n",
       "      <th>23</th>\n",
       "      <td>17</td>\n",
       "      <td>3</td>\n",
       "      <td>956679384.0</td>\n",
       "      <td>6040</td>\n",
       "    </tr>\n",
       "    <tr>\n",
       "      <th>25</th>\n",
       "      <td>34</td>\n",
       "      <td>4</td>\n",
       "      <td>956679384.0</td>\n",
       "      <td>6040</td>\n",
       "    </tr>\n",
       "    <tr>\n",
       "      <th>22</th>\n",
       "      <td>1649</td>\n",
       "      <td>5</td>\n",
       "      <td>956679319.0</td>\n",
       "      <td>6040</td>\n",
       "    </tr>\n",
       "    <tr>\n",
       "      <th>20</th>\n",
       "      <td>2028</td>\n",
       "      <td>5</td>\n",
       "      <td>956679319.0</td>\n",
       "      <td>6040</td>\n",
       "    </tr>\n",
       "    <tr>\n",
       "      <th>21</th>\n",
       "      <td>326</td>\n",
       "      <td>4</td>\n",
       "      <td>956679319.0</td>\n",
       "      <td>6040</td>\n",
       "    </tr>\n",
       "    <tr>\n",
       "      <th>18</th>\n",
       "      <td>608</td>\n",
       "      <td>4</td>\n",
       "      <td>956679275.0</td>\n",
       "      <td>6040</td>\n",
       "    </tr>\n",
       "    <tr>\n",
       "      <th>19</th>\n",
       "      <td>2396</td>\n",
       "      <td>3</td>\n",
       "      <td>956679275.0</td>\n",
       "      <td>6040</td>\n",
       "    </tr>\n",
       "    <tr>\n",
       "      <th>17</th>\n",
       "      <td>3289</td>\n",
       "      <td>5</td>\n",
       "      <td>956679105.0</td>\n",
       "      <td>6040</td>\n",
       "    </tr>\n",
       "    <tr>\n",
       "      <th>16</th>\n",
       "      <td>318</td>\n",
       "      <td>4</td>\n",
       "      <td>956679057.0</td>\n",
       "      <td>6040</td>\n",
       "    </tr>\n",
       "    <tr>\n",
       "      <th>14</th>\n",
       "      <td>1252</td>\n",
       "      <td>5</td>\n",
       "      <td>956679057.0</td>\n",
       "      <td>6040</td>\n",
       "    </tr>\n",
       "    <tr>\n",
       "      <th>15</th>\n",
       "      <td>649</td>\n",
       "      <td>5</td>\n",
       "      <td>956679057.0</td>\n",
       "      <td>6040</td>\n",
       "    </tr>\n",
       "    <tr>\n",
       "      <th>13</th>\n",
       "      <td>527</td>\n",
       "      <td>5</td>\n",
       "      <td>956679019.0</td>\n",
       "      <td>6040</td>\n",
       "    </tr>\n",
       "    <tr>\n",
       "      <th>11</th>\n",
       "      <td>919</td>\n",
       "      <td>5</td>\n",
       "      <td>956678991.0</td>\n",
       "      <td>6040</td>\n",
       "    </tr>\n",
       "    <tr>\n",
       "      <th>10</th>\n",
       "      <td>2503</td>\n",
       "      <td>5</td>\n",
       "      <td>956678991.0</td>\n",
       "      <td>6040</td>\n",
       "    </tr>\n",
       "    <tr>\n",
       "      <th>12</th>\n",
       "      <td>912</td>\n",
       "      <td>5</td>\n",
       "      <td>956678991.0</td>\n",
       "      <td>6040</td>\n",
       "    </tr>\n",
       "    <tr>\n",
       "      <th>9</th>\n",
       "      <td>1734</td>\n",
       "      <td>2</td>\n",
       "      <td>956678881.0</td>\n",
       "      <td>6040</td>\n",
       "    </tr>\n",
       "    <tr>\n",
       "      <th>7</th>\n",
       "      <td>573</td>\n",
       "      <td>4</td>\n",
       "      <td>956678856.0</td>\n",
       "      <td>6040</td>\n",
       "    </tr>\n",
       "    <tr>\n",
       "      <th>6</th>\n",
       "      <td>3111</td>\n",
       "      <td>5</td>\n",
       "      <td>956678856.0</td>\n",
       "      <td>6040</td>\n",
       "    </tr>\n",
       "    <tr>\n",
       "      <th>4</th>\n",
       "      <td>1419</td>\n",
       "      <td>3</td>\n",
       "      <td>956678856.0</td>\n",
       "      <td>6040</td>\n",
       "    </tr>\n",
       "    <tr>\n",
       "      <th>8</th>\n",
       "      <td>3505</td>\n",
       "      <td>4</td>\n",
       "      <td>956678856.0</td>\n",
       "      <td>6040</td>\n",
       "    </tr>\n",
       "    <tr>\n",
       "      <th>5</th>\n",
       "      <td>213</td>\n",
       "      <td>5</td>\n",
       "      <td>956678856.0</td>\n",
       "      <td>6040</td>\n",
       "    </tr>\n",
       "    <tr>\n",
       "      <th>3</th>\n",
       "      <td>1961</td>\n",
       "      <td>4</td>\n",
       "      <td>956678777.0</td>\n",
       "      <td>6040</td>\n",
       "    </tr>\n",
       "    <tr>\n",
       "      <th>2</th>\n",
       "      <td>593</td>\n",
       "      <td>5</td>\n",
       "      <td>956678754.0</td>\n",
       "      <td>6040</td>\n",
       "    </tr>\n",
       "    <tr>\n",
       "      <th>1</th>\n",
       "      <td>2384</td>\n",
       "      <td>4</td>\n",
       "      <td>956678754.0</td>\n",
       "      <td>6040</td>\n",
       "    </tr>\n",
       "    <tr>\n",
       "      <th>0</th>\n",
       "      <td>858</td>\n",
       "      <td>4</td>\n",
       "      <td>956678732.0</td>\n",
       "      <td>6040</td>\n",
       "    </tr>\n",
       "  </tbody>\n",
       "</table>\n",
       "<p>719949 rows × 4 columns</p>\n",
       "</div>"
      ],
      "text/plain": [
       "        movie_id  rating    timestamp  user_id\n",
       "719948       892       4  975739919.0     1875\n",
       "719947       802       4  975739918.0     1875\n",
       "719946      2303       4  975739907.0      635\n",
       "719945      2966       4  975739907.0      635\n",
       "719944      3198       4  975739907.0      635\n",
       "719943      1884       4  975739907.0      635\n",
       "719942       838       4  975739906.0     1875\n",
       "719941      3479       4  975739906.0     1875\n",
       "719939      2108       4  975739892.0     1875\n",
       "719940      1680       4  975739892.0     1875\n",
       "719938        68       4  975739871.0     1875\n",
       "719937      1203       5  975739864.0      635\n",
       "719936      1952       4  975739864.0      635\n",
       "719935       858       4  975739864.0      635\n",
       "719934      2240       3  975739864.0      635\n",
       "719931      1251       4  975739820.0      635\n",
       "719929      1960       5  975739820.0      635\n",
       "719930      1172       5  975739820.0      635\n",
       "719928       296       4  975739820.0      635\n",
       "719932      3035       5  975739820.0      635\n",
       "719933      1207       5  975739820.0      635\n",
       "719927       360       3  975739773.0     1875\n",
       "719926       444       3  975739744.0     1875\n",
       "719925      3183       4  975739720.0      635\n",
       "719924      1217       4  975739720.0      635\n",
       "719923      1279       5  975739720.0      635\n",
       "719922      3067       4  975739720.0      635\n",
       "719921       420       1  975739717.0     1875\n",
       "719920      3599       1  975739694.0     1875\n",
       "719919       234       3  975739683.0     1875\n",
       "...          ...     ...          ...      ...\n",
       "27           300       2  956679516.0     6040\n",
       "30           150       3  956679516.0     6040\n",
       "28          1392       5  956679516.0     6040\n",
       "26          2692       4  956679456.0     6040\n",
       "24          2762       4  956679384.0     6040\n",
       "23            17       3  956679384.0     6040\n",
       "25            34       4  956679384.0     6040\n",
       "22          1649       5  956679319.0     6040\n",
       "20          2028       5  956679319.0     6040\n",
       "21           326       4  956679319.0     6040\n",
       "18           608       4  956679275.0     6040\n",
       "19          2396       3  956679275.0     6040\n",
       "17          3289       5  956679105.0     6040\n",
       "16           318       4  956679057.0     6040\n",
       "14          1252       5  956679057.0     6040\n",
       "15           649       5  956679057.0     6040\n",
       "13           527       5  956679019.0     6040\n",
       "11           919       5  956678991.0     6040\n",
       "10          2503       5  956678991.0     6040\n",
       "12           912       5  956678991.0     6040\n",
       "9           1734       2  956678881.0     6040\n",
       "7            573       4  956678856.0     6040\n",
       "6           3111       5  956678856.0     6040\n",
       "4           1419       3  956678856.0     6040\n",
       "8           3505       4  956678856.0     6040\n",
       "5            213       5  956678856.0     6040\n",
       "3           1961       4  956678777.0     6040\n",
       "2            593       5  956678754.0     6040\n",
       "1           2384       4  956678754.0     6040\n",
       "0            858       4  956678732.0     6040\n",
       "\n",
       "[719949 rows x 4 columns]"
      ]
     },
     "execution_count": 60,
     "metadata": {},
     "output_type": "execute_result"
    }
   ],
   "source": [
    "ratings_df.sort_values(by='timestamp', ascending=False)"
   ]
  },
  {
   "cell_type": "code",
   "execution_count": 61,
   "metadata": {},
   "outputs": [],
   "source": [
    "als = ALS(\n",
    "    rank=11,\n",
    "    userCol='user_id',\n",
    "    itemCol='movie_id',\n",
    "    ratingCol='rating'\n",
    ")"
   ]
  },
  {
   "cell_type": "code",
   "execution_count": 62,
   "metadata": {},
   "outputs": [],
   "source": [
    "als_model = als.fit(ratings)"
   ]
  },
  {
   "cell_type": "code",
   "execution_count": 63,
   "metadata": {},
   "outputs": [
    {
     "data": {
      "text/plain": [
       "pyspark.ml.recommendation.ALSModel"
      ]
     },
     "execution_count": 63,
     "metadata": {},
     "output_type": "execute_result"
    }
   ],
   "source": [
    "type(als_model)"
   ]
  },
  {
   "cell_type": "code",
   "execution_count": 65,
   "metadata": {},
   "outputs": [],
   "source": [
    "preds = als_model.transform(ratings)"
   ]
  },
  {
   "cell_type": "code",
   "execution_count": 66,
   "metadata": {},
   "outputs": [
    {
     "name": "stdout",
     "output_type": "stream",
     "text": [
      "+--------+------+------------+-------+----------+\n",
      "|movie_id|rating|   timestamp|user_id|prediction|\n",
      "+--------+------+------------+-------+----------+\n",
      "|     148|     5|9.75592024E8|    673| 4.2179713|\n",
      "|     148|     2|9.65634524E8|   4227|  2.082299|\n",
      "|     148|     4|9.68683753E8|   3184| 3.4188745|\n",
      "|     148|     3| 9.6997537E8|   4784| 2.9637852|\n",
      "|     148|     2|9.74388854E8|   2383| 2.3499334|\n",
      "+--------+------+------------+-------+----------+\n",
      "only showing top 5 rows\n",
      "\n"
     ]
    }
   ],
   "source": [
    "preds.show(5)"
   ]
  },
  {
   "cell_type": "code",
   "execution_count": 68,
   "metadata": {},
   "outputs": [],
   "source": [
    "reg_ev = RegressionEvaluator(metricName='rmse', labelCol='rating', predictionCol='prediction')"
   ]
  },
  {
   "cell_type": "code",
   "execution_count": 69,
   "metadata": {},
   "outputs": [],
   "source": [
    "rmse_model_1 = reg_ev.evaluate(preds)"
   ]
  },
  {
   "cell_type": "code",
   "execution_count": 70,
   "metadata": {},
   "outputs": [
    {
     "data": {
      "text/plain": [
       "0.8091218175453062"
      ]
     },
     "execution_count": 70,
     "metadata": {},
     "output_type": "execute_result"
    }
   ],
   "source": [
    "rmse_model_1"
   ]
  },
  {
   "cell_type": "code",
   "execution_count": 71,
   "metadata": {},
   "outputs": [],
   "source": [
    "request_preds = als_model.transform(requests)"
   ]
  },
  {
   "cell_type": "code",
   "execution_count": 78,
   "metadata": {},
   "outputs": [
    {
     "name": "stdout",
     "output_type": "stream",
     "text": [
      "+--------+------+-------------+-------+----------+\n",
      "|movie_id|rating|    timestamp|user_id|prediction|\n",
      "+--------+------+-------------+-------+----------+\n",
      "|     148|   NaN| 9.77959026E8|     53|       NaN|\n",
      "|     148|   NaN| 9.76559602E8|   4169| 3.2321188|\n",
      "|     148|   NaN| 9.89024856E8|   5333| 2.3576462|\n",
      "|     148|   NaN| 9.77005381E8|   4387| 1.9873172|\n",
      "|     148|   NaN| 9.66907208E8|   3539| 2.8987255|\n",
      "|     148|   NaN| 9.76266538E8|    840| 2.5574653|\n",
      "|     148|   NaN| 9.76841639E8|    216|       NaN|\n",
      "|     148|   NaN| 9.76191154E8|    482|       NaN|\n",
      "|     148|   NaN|1.029283935E9|    752| 3.2906346|\n",
      "|     148|   NaN|1.026978024E9|    424|       NaN|\n",
      "|     148|   NaN| 9.74150193E8|   2456| 2.7647066|\n",
      "|     148|   NaN|  9.7014489E8|   3053| 2.8814397|\n",
      "|     463|   NaN| 9.80596453E8|    970| 2.7192957|\n",
      "|     463|   NaN| 9.76560887E8|   4169|   2.44903|\n",
      "|     463|   NaN| 9.78242788E8|     26|       NaN|\n",
      "|     463|   NaN| 9.76395651E8|    319|       NaN|\n",
      "|     463|   NaN| 9.76907712E8|    202|       NaN|\n",
      "|     463|   NaN| 9.75746926E8|    721| 3.2496715|\n",
      "|     463|   NaN|   9.652831E8|   4252| 2.1638129|\n",
      "|     463|   NaN|  9.7982674E8|    331|       NaN|\n",
      "+--------+------+-------------+-------+----------+\n",
      "only showing top 20 rows\n",
      "\n"
     ]
    }
   ],
   "source": [
    "request_preds.show(20)"
   ]
  },
  {
   "cell_type": "code",
   "execution_count": 93,
   "metadata": {},
   "outputs": [],
   "source": [
    "#confirm that Nan in prediction column are cold-start users\n",
    "user_factors = als_model.userFactors\n",
    "row_216 = user_factors[user_factors['id']==216]\n",
    "#.first() takes it out of the spark dataframe type "
   ]
  },
  {
   "cell_type": "code",
   "execution_count": 95,
   "metadata": {},
   "outputs": [
    {
     "name": "stdout",
     "output_type": "stream",
     "text": [
      "+---+--------+\n",
      "| id|features|\n",
      "+---+--------+\n",
      "+---+--------+\n",
      "\n"
     ]
    }
   ],
   "source": [
    "row_216.show()\n",
    "#no values for the cold-start users"
   ]
  },
  {
   "cell_type": "code",
   "execution_count": null,
   "metadata": {},
   "outputs": [],
   "source": []
  }
 ],
 "metadata": {
  "kernelspec": {
   "display_name": "Python 3",
   "language": "python",
   "name": "python3"
  },
  "language_info": {
   "codemirror_mode": {
    "name": "ipython",
    "version": 3
   },
   "file_extension": ".py",
   "mimetype": "text/x-python",
   "name": "python",
   "nbconvert_exporter": "python",
   "pygments_lexer": "ipython3",
   "version": "3.7.3"
  }
 },
 "nbformat": 4,
 "nbformat_minor": 2
}
